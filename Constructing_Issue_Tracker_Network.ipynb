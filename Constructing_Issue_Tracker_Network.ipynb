{
 "cells": [
  {
   "cell_type": "markdown",
   "metadata": {},
   "source": [
    "# Constructing the network of respondence"
   ]
  },
  {
   "cell_type": "code",
   "execution_count": 85,
   "metadata": {},
   "outputs": [],
   "source": [
    "import json\n",
    "import itertools\n",
    "import networkx as nx \n",
    "import seaborn as sns\n",
    "import matplotlib.pyplot as plt\n",
    "import pandas as pd\n",
    "import community\n",
    "import glob\n",
    "\n",
    "from itertools import repeat\n",
    "from helper_func_networks import clean_graph, partition_from_attr, random_color, draw_partition\n",
    "from datetime import date, datetime\n",
    "\n",
    "colors = ['#E69F00', '#56B4E9', '#F0E442', '#F1948A', '#7DCEA0']"
   ]
  },
  {
   "cell_type": "code",
   "execution_count": 2,
   "metadata": {},
   "outputs": [],
   "source": [
    "# read in the scraped data and combine it in one single dictionary\n",
    "path = \"./info_repo_and_issues*.txt\"\n",
    "files = []\n",
    "for filename in glob.glob(path):\n",
    "    with open(filename, 'r') as infile:\n",
    "        files.append(json.load(infile))\n",
    "\n",
    "dict0 = files[0] # 'vuejs.org' to '012-cn.vuejs.org'\n",
    "del dict0['vue-requests']\n",
    "dict1 = files[1] # 'vue-requests' and 'it.vuejs.org'\n",
    "dict2 = files[2]\n",
    "dict3 = files[3]\n",
    "dict4 = files[4]\n",
    "dict5 = files[5]\n",
    "\n",
    "dict_all = {}\n",
    "dict_all.update(dict4) \n",
    "dict_all.update(dict5) \n",
    "dict_all.update(dict0) \n",
    "dict_all.update(dict1) \n",
    "dict_all.update(dict2) \n",
    "dict_all.update(dict3) "
   ]
  },
  {
   "cell_type": "code",
   "execution_count": 3,
   "metadata": {},
   "outputs": [],
   "source": [
    "# save all the data in one file\n",
    "with open('Issue_tracker_dic.txt', 'w') as outfile:\n",
    "    json.dump(dict_all, outfile)\n",
    "outfile.close()"
   ]
  },
  {
   "cell_type": "markdown",
   "metadata": {},
   "source": [
    "**Structure of the dictionary**\n",
    "\n",
    "repo     \n",
    "-- issue     \n",
    "        -- -- 'title',      \n",
    "        -- -- 'created_at',      \n",
    "        -- -- 'created_by_id',     \n",
    "        -- -- 'created_by_name',      \n",
    "        -- -- 'gender',      \n",
    "        -- -- 'closed_at',      \n",
    "        -- -- 'comments'    \n",
    "                -- -- -- comment_id     \n",
    "                -- -- -- -- user     \n",
    "                -- -- -- -- name     \n",
    "                -- -- -- -- gender     \n",
    "                -- -- -- -- created_at\n",
    "            "
   ]
  },
  {
   "cell_type": "code",
   "execution_count": 4,
   "metadata": {},
   "outputs": [
    {
     "data": {
      "text/plain": [
       "55278"
      ]
     },
     "execution_count": 4,
     "metadata": {},
     "output_type": "execute_result"
    }
   ],
   "source": [
    "# count issues\n",
    "number_issues = 0\n",
    "\n",
    "for repo in dict_all.keys(): \n",
    "    number_issues += len(dict_all[repo].keys()) \n",
    "\n",
    "number_issues"
   ]
  },
  {
   "cell_type": "code",
   "execution_count": 5,
   "metadata": {},
   "outputs": [
    {
     "data": {
      "text/plain": [
       "137645"
      ]
     },
     "execution_count": 5,
     "metadata": {},
     "output_type": "execute_result"
    }
   ],
   "source": [
    "# count comments on issues\n",
    "number_comments = 0\n",
    "\n",
    "for repo in dict_all.keys(): \n",
    "    for issue in dict_all[repo].keys(): \n",
    "        number_comments += len(dict_all[repo][issue]['comments'].keys())#['comments']\n",
    "\n",
    "number_comments"
   ]
  },
  {
   "cell_type": "markdown",
   "metadata": {},
   "source": [
    "## Who initiated issues?"
   ]
  },
  {
   "cell_type": "code",
   "execution_count": 6,
   "metadata": {},
   "outputs": [],
   "source": [
    "# find issue commentors and issue creators\n",
    "issue_creators = []\n",
    "issue_commentors = []\n",
    "for repo in dict_all.keys(): \n",
    "    for issue in dict_all[repo].keys():\n",
    "        issue_creators.append(dict_all[repo][issue]['created_by_id'])\n",
    "    \n",
    "        if [comment for comment in list(dict_all[repo][issue]['comments'].keys())] == []: \n",
    "            pass\n",
    "        else: \n",
    "            for comment in list(dict_all[repo][issue]['comments'].keys()): \n",
    "                issue_commentors.append(dict_all[repo][issue]['comments'][comment]['user'])\n",
    "                \n",
    "                \n",
    "issue_creators = set(issue_creators)\n",
    "issue_commentors = set(issue_commentors)"
   ]
  },
  {
   "cell_type": "code",
   "execution_count": 7,
   "metadata": {},
   "outputs": [],
   "source": [
    "# create dictionary that maps names to gender\n",
    "user_to_gender = {}\n",
    "\n",
    "for repo in dict_all.keys(): \n",
    "    for issue in dict_all[repo].keys():\n",
    "        user_to_gender[dict_all[repo][issue]['created_by_id']] = dict_all[repo][issue]['gender']\n",
    "        \n",
    "        if [comment for comment in list(dict_all[repo][issue]['comments'].keys())] == []: \n",
    "            pass\n",
    "        else: \n",
    "            for comment in list(dict_all[repo][issue]['comments'].keys()): \n",
    "                user_to_gender[dict_all[repo][issue]['comments'][comment]['user']] = dict_all[repo][issue]['comments'][comment]['gender']"
   ]
  },
  {
   "cell_type": "code",
   "execution_count": 8,
   "metadata": {},
   "outputs": [
    {
     "data": {
      "text/plain": [
       "True"
      ]
     },
     "execution_count": 8,
     "metadata": {},
     "output_type": "execute_result"
    }
   ],
   "source": [
    "# check whether results are constistent\n",
    "len(issue_creators.union(issue_commentors)) == len(user_to_gender) "
   ]
  },
  {
   "cell_type": "code",
   "execution_count": 9,
   "metadata": {},
   "outputs": [],
   "source": [
    "# infer the users genders\n",
    "creators_to_gender = {}\n",
    "for creator in issue_creators: \n",
    "    creators_to_gender[creator] = user_to_gender[creator]\n",
    "    \n",
    "commentors_to_gender = {}\n",
    "for commentor in issue_commentors: \n",
    "    commentors_to_gender[commentor] = user_to_gender[commentor]"
   ]
  },
  {
   "cell_type": "code",
   "execution_count": 10,
   "metadata": {},
   "outputs": [],
   "source": [
    "# count groups to see how unbalanced the data is\n",
    "gender_counts_creators = pd.DataFrame(pd.Series(creators_to_gender.values()).value_counts()).T\n",
    "gender_counts_commentors = pd.DataFrame(pd.Series(commentors_to_gender.values()).value_counts()).T\n",
    "\n",
    "all_mf = gender_counts_creators[\"M\"] + gender_counts_creators[\"F\"] + gender_counts_commentors[\"M\"] + gender_counts_commentors[\"F\"]\n",
    "all_mfu = gender_counts_commentors.sum(axis=1) + gender_counts_creators.sum(axis=1)"
   ]
  },
  {
   "cell_type": "code",
   "execution_count": 11,
   "metadata": {},
   "outputs": [
    {
     "name": "stdout",
     "output_type": "stream",
     "text": [
      "For issue creators the share is:\n",
      "\n",
      "M: \t\t0.42 \n",
      "F: \t\t0.04 \n",
      "Unknown: \t0.54\n",
      "\n",
      "For issue commentors the share is:\n",
      "\n",
      "M: \t\t0.45 \n",
      "F: \t\t0.05 \n",
      "Unknown: \t0.5\n",
      "\n"
     ]
    }
   ],
   "source": [
    "for frame in [gender_counts_creators, gender_counts_commentors]: \n",
    "\n",
    "        count_un = round(float(frame[\"unkown\"]/frame.sum(axis=1)), 2)\n",
    "        count_m = round(float(frame[\"M\"]/frame.sum(axis=1)), 2)\n",
    "        count_f = round(float(frame[\"F\"]/frame.sum(axis=1)), 2)\n",
    "        \n",
    "        if frame is gender_counts_creators: \n",
    "            print('''For issue creators the share is:\\n''')   \n",
    "        else:\n",
    "            print('''For issue commentors the share is:\\n''')\n",
    "            \n",
    "        print(f'''M: \\t\\t{count_m} \\nF: \\t\\t{count_f} \\nUnknown: \\t{count_un}\\n''')"
   ]
  },
  {
   "cell_type": "markdown",
   "metadata": {},
   "source": [
    "## Create network of issue creators and commentors"
   ]
  },
  {
   "cell_type": "code",
   "execution_count": 12,
   "metadata": {},
   "outputs": [],
   "source": [
    "# find bots\n",
    "\n",
    "name_gender_data = pd.DataFrame.from_dict(user_to_gender, orient='index').reset_index().rename(columns = {\"index\": \"name\", 0: \"gender\"})\n",
    "\n",
    "counter = 0\n",
    "genders = []\n",
    "for name in name_gender_data[\"name\"]: \n",
    "    if \"bot\" in name: \n",
    "        counter += 1\n",
    "    else: \n",
    "        genders.append(user_to_gender[name])"
   ]
  },
  {
   "cell_type": "code",
   "execution_count": 13,
   "metadata": {},
   "outputs": [],
   "source": [
    "all_users = list(user_to_gender.keys()) # all people involved (commentors and creators)\n",
    "involved_users = [user for user in all_users if \"bot\" not in user]"
   ]
  },
  {
   "cell_type": "code",
   "execution_count": 14,
   "metadata": {},
   "outputs": [],
   "source": [
    "#this code does account for people that comment their own issues and calulates also the time bewteen responses\n",
    "\n",
    "edges_and_weights = []\n",
    "for repo in list(dict_all.keys()): \n",
    "    \n",
    "    for issue in list(dict_all[repo].keys()):\n",
    "        \n",
    "        creator = dict_all[repo][issue]['created_by_id']\n",
    "        created_at = datetime.strptime(dict_all[repo][issue]['created_at'], '%Y-%m-%dT%H:%M:%S')\n",
    "        \n",
    "        if \"bot\" in creator: # exclude bots\n",
    "            continue\n",
    "        \n",
    "        elif [comment for comment in list(dict_all[repo][issue]['comments'].keys())] == []: # select the issues that have comments \n",
    "            pass\n",
    "        \n",
    "        else: \n",
    "            \n",
    "            given_comments = [comment for comment in list(dict_all[repo][issue]['comments'].keys())]\n",
    "            \n",
    "            if creator == dict_all[repo][issue]['comments'][given_comments[0]][\"user\"]:\n",
    "                pass\n",
    "            \n",
    "            elif \"bot\" in dict_all[repo][issue]['comments'][given_comments[0]][\"user\"]: # exclude bots\n",
    "                pass \n",
    "            \n",
    "            else: \n",
    "                \n",
    "                commented_at = datetime.strptime(dict_all[repo][issue]['comments'][given_comments[0]]['created_at'], '%Y-%m-%dT%H:%M:%S')\n",
    "                time_laps = commented_at - created_at\n",
    "                    \n",
    "                edges_and_weights.append(tuple([dict_all[repo][issue]['comments'][given_comments[0]][\"user\"], creator, time_laps]))\n",
    "\n",
    "            \n",
    "            for i in range(len(given_comments)-2): \n",
    "                \n",
    "                \n",
    "                if dict_all[repo][issue]['comments'][given_comments[i+1]][\"user\"] == dict_all[repo][issue]['comments'][given_comments[i+2]][\"user\"]: \n",
    "                    pass\n",
    "                \n",
    "                else: \n",
    "                    \n",
    "                    if \"bot\" in dict_all[repo][issue]['comments'][given_comments[i+1]][\"user\"] or \"bot\" in dict_all[repo][issue]['comments'][given_comments[i+2]][\"user\"]: # exclude bots\n",
    "                        pass\n",
    "                \n",
    "                    else:\n",
    "                        com1_created_at = datetime.strptime(dict_all[repo][issue]['comments'][given_comments[i+1]]['created_at'], '%Y-%m-%dT%H:%M:%S')\n",
    "                        com2_created_at = datetime.strptime(dict_all[repo][issue]['comments'][given_comments[i+2]]['created_at'], '%Y-%m-%dT%H:%M:%S')\n",
    "                        time_laps = com2_created_at - com1_created_at\n",
    "\n",
    "                        edges_and_weights.append(tuple([dict_all[repo][issue]['comments'][given_comments[i+2]][\"user\"], dict_all[repo][issue]['comments'][given_comments[i+1]][\"user\"], time_laps]))                  "
   ]
  },
  {
   "cell_type": "markdown",
   "metadata": {},
   "source": [
    "The data is structured in the following way: (node1, node2, weight). An edge of weight \"weight\" points from node1 to node2. \n",
    "Hence, in this network edges are pointing from the first commenter to an issue creator, or from the commentor who answered a question to the one who asked. "
   ]
  },
  {
   "cell_type": "code",
   "execution_count": 15,
   "metadata": {},
   "outputs": [],
   "source": [
    "# calculation of the time lags and edge weights\n",
    "# rescaling of the edge weights\n",
    "\n",
    "edges_and_weights_resc = []\n",
    "all_edges_weights = []\n",
    "for edge in edges_and_weights: \n",
    "    days_in_seconds = edge[2].days * 24 * 60 * 60 \n",
    "    seconds = edge[2].seconds\n",
    "    time_diff = round((days_in_seconds + seconds) / (60 * 60 * 24), 2) # in days, rounded \n",
    "    weight = 180 - time_diff\n",
    "        \n",
    "    all_edges_weights.append(tuple([edge[0], edge[1], time_diff]))\n",
    "    \n",
    "    if time_diff < (6*30): \n",
    "        edges_and_weights_resc.append(tuple([edge[0], edge[1], weight]))\n",
    "        \n",
    "        \n",
    "weight_distr = []\n",
    "for edge in edges_and_weights_resc: \n",
    "    weight_distr.append(-(edge[2] - 180))\n",
    "    \n",
    "total_weight_distr = []\n",
    "for edge in all_edges_weights: \n",
    "    total_weight_distr.append((edge[2]))"
   ]
  },
  {
   "cell_type": "markdown",
   "metadata": {},
   "source": [
    "## Creation of the network"
   ]
  },
  {
   "cell_type": "code",
   "execution_count": 16,
   "metadata": {},
   "outputs": [],
   "source": [
    "# find unique pairs of people who collaborated with each other \n",
    "unique_edges = []\n",
    "for edge_weights in edges_and_weights_resc: \n",
    "    unique_edges.append(edge_weights[:2])\n",
    "\n",
    "unique_edges = set(unique_edges)"
   ]
  },
  {
   "cell_type": "code",
   "execution_count": 17,
   "metadata": {},
   "outputs": [],
   "source": [
    "# calclate the edge weights for pairs of people that collaborated more often than once (calculate the average)\n",
    "\n",
    "final_edge_to_weight = []\n",
    "for edge in unique_edges:\n",
    "    cum_weight = 0\n",
    "    same_edges = []\n",
    "    for edge_and_weight in edges_and_weights_resc: \n",
    "        if edge == edge_and_weight[:2]: \n",
    "            cum_weight += edge_and_weight[2]\n",
    "            same_edges.append(edge_and_weight)\n",
    "            \n",
    "        else:\n",
    "            continue\n",
    "        \n",
    "        mean_weight = cum_weight / len(same_edges)\n",
    "        final_edge_to_weight.append((edge_and_weight[0], edge_and_weight[1], mean_weight))"
   ]
  },
  {
   "cell_type": "code",
   "execution_count": 18,
   "metadata": {},
   "outputs": [],
   "source": [
    "# Creation of the graph \n",
    "\n",
    "issue_g = nx.DiGraph()\n",
    "issue_g.name = \"Creating_and_responding_to_issues\"\n",
    "\n",
    "for user in involved_users:\n",
    "    issue_g.add_node(user, \n",
    "                     gender =  user_to_gender[user])\n",
    "                      \n",
    "issue_g.add_weighted_edges_from(final_edge_to_weight)"
   ]
  },
  {
   "cell_type": "code",
   "execution_count": 19,
   "metadata": {},
   "outputs": [],
   "source": [
    "# creation of the user name to gender dictionary \n",
    "\n",
    "username_to_gender_dic = {}\n",
    "for user in issue_g.nodes(): \n",
    "    username_to_gender_dic[user] = issue_g.nodes[user][\"gender\"]"
   ]
  },
  {
   "cell_type": "code",
   "execution_count": 20,
   "metadata": {},
   "outputs": [],
   "source": [
    "# store data in a .txt file\n",
    "\n",
    "with open('username_to_gender_dic.txt', 'w') as outfile:\n",
    "    json.dump(username_to_gender_dic, outfile)\n",
    "outfile.close()"
   ]
  },
  {
   "cell_type": "code",
   "execution_count": 77,
   "metadata": {},
   "outputs": [
    {
     "name": "stdout",
     "output_type": "stream",
     "text": [
      "Name: Creating_and_responding_to_issues\n",
      "Type: DiGraph\n",
      "Number of nodes: 32102\n",
      "Number of edges: 58231\n",
      "Average in degree:   1.8139\n",
      "Average out degree:   1.8139\n",
      "Density of the graph: 0.000 \n",
      "Max possible edges:  1030506302\n",
      "Actual number of edges:  58231\n",
      "Number of reciprocated edges:  19682.0\n",
      "Number of unreciprocated edges:  38549.0\n",
      "Percent of connected dyads that are unreciprocated: 66.2% \n"
     ]
    }
   ],
   "source": [
    "# get information about the created graph\n",
    "# code partially adapted from the lecture\n",
    "\n",
    "num_nodes = len(issue_g.nodes)\n",
    "num_edges = len(issue_g.edges)\n",
    "recip_score = nx.reciprocity(issue_g)\n",
    "recip_edges = recip_score*num_edges\n",
    "tot_possible_edges = num_nodes * (num_nodes -1) \n",
    "                                                \n",
    "unrecip_edges = num_edges - recip_edges\n",
    "\n",
    "\n",
    "print(nx.info(issue_g))\n",
    "print(\"Density of the graph: {:.3f} \".format(nx.density(issue_g)))\n",
    "print(\"Max possible edges: \", tot_possible_edges)\n",
    "print(\"Actual number of edges: \", num_edges)\n",
    "print(\"Number of reciprocated edges: \", recip_edges)\n",
    "print(\"Number of unreciprocated edges: \", unrecip_edges)\n",
    "print(\"Percent of connected dyads that are unreciprocated: {:.1%} \".format(unrecip_edges/num_edges))"
   ]
  },
  {
   "cell_type": "code",
   "execution_count": 23,
   "metadata": {},
   "outputs": [],
   "source": [
    "# store network to visualise it using gephi\n",
    "nx.write_gexf(issue_g, \"Creating_and_responding_to_issues_(gender).gexf\")"
   ]
  },
  {
   "cell_type": "markdown",
   "metadata": {},
   "source": [
    "## Investigation of the network of respondence"
   ]
  },
  {
   "cell_type": "code",
   "execution_count": 81,
   "metadata": {},
   "outputs": [
    {
     "data": {
      "image/png": "[encoded data removed]",
      "text/plain": [
       "<Figure size 432x288 with 1 Axes>"
      ]
     },
     "metadata": {
      "needs_background": "light"
     },
     "output_type": "display_data"
    },
    {
     "data": {
      "image/png": "[encoded data removed]",
      "text/plain": [
       "<Figure size 432x288 with 1 Axes>"
      ]
     },
     "metadata": {
      "needs_background": "light"
     },
     "output_type": "display_data"
    },
    {
     "data": {
      "image/png": "[encoded data removed]",
      "text/plain": [
       "<Figure size 432x288 with 1 Axes>"
      ]
     },
     "metadata": {
      "needs_background": "light"
     },
     "output_type": "display_data"
    }
   ],
   "source": [
    "deg_seq = [x[1] for x in issue_g.degree()]\n",
    "ax = sns.histplot(x=deg_seq, binwidth = 2.5)\n",
    "ax.set(xscale=\"log\", yscale=\"log\")\n",
    "#plt.xlim(-0.5, 100)\n",
    "#plt.ylim(0.1, 10**5)\n",
    "plt.title(\"Degree Distribution\")\n",
    "plt.show()\n",
    "\n",
    "deg_seq = [x[1] for x in issue_g.in_degree()]\n",
    "ax = sns.histplot(x=deg_seq, binwidth = 2.5)\n",
    "ax.set(xscale=\"log\", yscale=\"log\")\n",
    "#plt.xlim(-0.5, 100)\n",
    "#plt.ylim(0.1, 10**5)\n",
    "plt.title(\"In-Degree Distribution\")\n",
    "plt.show()\n",
    "\n",
    "deg_seq = [x[1] for x in issue_g.out_degree()]\n",
    "ax = sns.histplot(x=deg_seq, binwidth = 2.5)\n",
    "ax.set(xscale=\"log\", yscale=\"log\")\n",
    "#plt.xlim(-0.5, 100)\n",
    "#plt.ylim(0.1, 10**5)\n",
    "plt.title(\"Out-Degree Distribution\")\n",
    "plt.show()"
   ]
  },
  {
   "cell_type": "code",
   "execution_count": 82,
   "metadata": {},
   "outputs": [
    {
     "data": {
      "image/png": "[encoded data removed]",
      "text/plain": [
       "<Figure size 432x288 with 1 Axes>"
      ]
     },
     "metadata": {
      "needs_background": "light"
     },
     "output_type": "display_data"
    }
   ],
   "source": [
    "# save distribution in file\n",
    "deg_seq = [x[1] for x in issue_g.degree()]\n",
    "ax = sns.histplot(x=deg_seq, binwidth = 2.5, color = colors[1], edgecolor=\"w\")\n",
    "ax.set(xscale=\"log\", yscale=\"log\")\n",
    "#plt.xlim(1, 300)\n",
    "#plt.ylim(0, 10**5)\n",
    "plt.xlabel(\"Degree\")\n",
    "#plt.show()\n",
    "\n",
    "plt.tight_layout()\n",
    "\n",
    "plt.savefig(\"PowerLawissue_network.pdf\", \n",
    "            dpi=350, facecolor='w', edgecolor='w', format=\"pdf\",\n",
    "            transparent=True, bbox_inches=None, pad_inches=0.1)"
   ]
  },
  {
   "cell_type": "code",
   "execution_count": 86,
   "metadata": {},
   "outputs": [
    {
     "data": {
      "image/png": "[encoded data removed]",
      "text/plain": [
       "<Figure size 432x288 with 1 Axes>"
      ]
     },
     "metadata": {
      "needs_background": "light"
     },
     "output_type": "display_data"
    }
   ],
   "source": [
    "# generate Barabasi-Albert graph and save distribution in file\n",
    "\n",
    "g_pl1 = nx.barabasi_albert_graph(32102,2)\n",
    "g_pl1.name=\"Power-law graph\"\n",
    "#reportOnClustering(g)\n",
    "\n",
    "deg_seq = [x[1] for x in g_pl1.degree()]\n",
    "ax = sns.histplot(x=deg_seq, binwidth = 2.5, color = colors[4], edgecolor='w')\n",
    "ax.set(xscale=\"log\", yscale=\"log\")\n",
    "#plt.xlim(1, 300)\n",
    "#plt.ylim(0, 10**5)\n",
    "plt.xlabel(\"Degree\")\n",
    "#plt.title(\"Degree distribution \")\n",
    "\n",
    "plt.tight_layout()\n",
    "\n",
    "plt.savefig(\"PowerLawbarabasi_albert_graph.pdf\", \n",
    "            dpi=350, facecolor='w', edgecolor='w', format=\"pdf\",\n",
    "            transparent=True, bbox_inches=None, pad_inches=0.1)"
   ]
  },
  {
   "cell_type": "code",
   "execution_count": 87,
   "metadata": {},
   "outputs": [
    {
     "data": {
      "image/png": "[encoded data removed]",
      "text/plain": [
       "<Figure size 432x288 with 1 Axes>"
      ]
     },
     "metadata": {
      "needs_background": "light"
     },
     "output_type": "display_data"
    }
   ],
   "source": [
    "# generation of a power-law graph and save distribution in file\n",
    "\n",
    "g_pl2 = nx.generators.random_graphs.powerlaw_cluster_graph(32102,2, 0.5)\n",
    "g_pl2.name=\"Power-law graph\"\n",
    "#reportOnClustering(g)\n",
    "\n",
    "deg_seq = [x[1] for x in g_pl2.degree()]\n",
    "ax = sns.histplot(x=deg_seq, binwidth = 2.5, color = colors[4], edgecolor='w')\n",
    "ax.set(xscale=\"log\", yscale=\"log\")\n",
    "#plt.xlim(1, 300)\n",
    "#plt.ylim(0, 10**5)\n",
    "plt.xlabel(\"Degree\")\n",
    "#plt.title(\"Degree distribution \")\n",
    "\n",
    "plt.tight_layout()\n",
    "\n",
    "plt.savefig(\"PowerLawRandom_graph.pdf\", \n",
    "            dpi=350, facecolor='w', edgecolor='w', format=\"pdf\",\n",
    "            transparent=True, bbox_inches=None, pad_inches=0.1)"
   ]
  },
  {
   "cell_type": "markdown",
   "metadata": {},
   "source": [
    "## Who is better connected?"
   ]
  },
  {
   "cell_type": "code",
   "execution_count": 29,
   "metadata": {},
   "outputs": [
    {
     "name": "stdout",
     "output_type": "stream",
     "text": [
      "\n",
      "          The average dregree for male is 4.4.\n",
      "          The average dregree for female high is 3.5. \n",
      "          The average dregree for unknown is 3.0.\n",
      "          \n",
      "          The average in_degree for male is 2.1.\n",
      "          The average in_degree for female high is 1.7. \n",
      "          The average in_degree for unknown is 1.6.\n",
      "          \n",
      "          The average out_degree for male is 2.3.\n",
      "          The average out_degree for female high is 1.8. \n",
      "          The average out_degree for unknown is 1.4.\n",
      "          \n",
      "          \n",
      "          \n",
      "          The average dregree weighted for male is 745.4.\n",
      "          The average dregree weighted for female is 592.7. \n",
      "          The average dregree weighted for unknown is 499.8.\n",
      "          \n",
      "          The average in_degree weighted for male is 354.6.\n",
      "          The average in_degree weighted for female is 294.5. \n",
      "          The average in_degree weighted for unknown is 264.8.\n",
      "          \n",
      "          The average out_degree weighted for male is 390.8.\n",
      "          The average out_degree weighted for female is 298.2. \n",
      "          The average out_degree weighted for unknown is 235.0.\n",
      "          \n",
      "          \n"
     ]
    }
   ],
   "source": [
    "# code is adapted from the lecture\n",
    "# find out who is better connected based on category\n",
    "\n",
    "def who_is_better_connected(network):\n",
    "    networkdf = pd.DataFrame.from_dict(dict(network.nodes),orient=\"index\")\n",
    "    \n",
    "    networkdf[\"degree\"] = pd.Series(dict(nx.degree(network)))\n",
    "    networkdf[\"in_degree\"] = pd.Series(dict(network.in_degree()))\n",
    "    networkdf[\"out_degree\"] = pd.Series(dict(network.out_degree()))\n",
    "    \n",
    "    networkdf[\"degree_weighted\"] = pd.Series(dict(nx.degree(network, weight='weight')))\n",
    "    networkdf[\"in_degree_weighted\"] = pd.Series(dict(network.in_degree(weight='weight')))\n",
    "    networkdf[\"out_degree_weighted\"] = pd.Series(dict(network.out_degree(weight='weight')))\n",
    "    #print(networkdf.head())\n",
    " \n",
    "    networkdf_m = networkdf[networkdf['gender'] == \"M\"]\n",
    "    networkdf_f = networkdf[networkdf['gender'] == \"F\"]\n",
    "    networkdf_u = networkdf[networkdf['gender'] == \"unkown\"]\n",
    "    \n",
    "    avg_deg_m = round(sum(networkdf_m[\"degree\"])/len(networkdf_m[\"degree\"]), 1)\n",
    "    avg_deg_f = round(sum(networkdf_f[\"degree\"])/len(networkdf_f[\"degree\"]), 1)\n",
    "    avg_deg_u = round(sum(networkdf_u[\"degree\"])/len(networkdf_u[\"degree\"]), 1)\n",
    "    \n",
    "    avg_in_deg_m = round(sum(networkdf_m[\"in_degree\"])/len(networkdf_m[\"in_degree\"]), 1)\n",
    "    avg_in_deg_f = round(sum(networkdf_f[\"in_degree\"])/len(networkdf_f[\"in_degree\"]), 1)\n",
    "    avg_in_deg_u = round(sum(networkdf_u[\"in_degree\"])/len(networkdf_u[\"in_degree\"]), 1)\n",
    "    \n",
    "    avg_out_deg_m = round(sum(networkdf_m[\"out_degree\"])/len(networkdf_m[\"out_degree\"]), 1)\n",
    "    avg_out_deg_f = round(sum(networkdf_f[\"out_degree\"])/len(networkdf_f[\"out_degree\"]), 1)\n",
    "    avg_out_deg_u = round(sum(networkdf_u[\"out_degree\"])/len(networkdf_u[\"out_degree\"]), 1)\n",
    "    \n",
    "    \n",
    "    avg_deg_m_weighted = round(sum(networkdf_m[\"degree_weighted\"])/len(networkdf_m[\"degree_weighted\"]), 1)\n",
    "    avg_deg_f_weighted = round(sum(networkdf_f[\"degree_weighted\"])/len(networkdf_f[\"degree_weighted\"]), 1)\n",
    "    avg_deg_u_weighted = round(sum(networkdf_u[\"degree_weighted\"])/len(networkdf_u[\"degree_weighted\"]), 1)\n",
    "    \n",
    "    avg_in_deg_m_weighted = round(sum(networkdf_m[\"in_degree_weighted\"])/len(networkdf_m[\"in_degree_weighted\"]), 1)\n",
    "    avg_in_deg_f_weighted = round(sum(networkdf_f[\"in_degree_weighted\"])/len(networkdf_f[\"in_degree_weighted\"]), 1)\n",
    "    avg_in_deg_u_weighted = round(sum(networkdf_u[\"in_degree_weighted\"])/len(networkdf_u[\"in_degree_weighted\"]), 1)\n",
    "    \n",
    "    avg_out_deg_m_weighted = round(sum(networkdf_m[\"out_degree_weighted\"])/len(networkdf_m[\"out_degree_weighted\"]), 1)\n",
    "    avg_out_deg_f_weighted = round(sum(networkdf_f[\"out_degree_weighted\"])/len(networkdf_f[\"out_degree_weighted\"]), 1)\n",
    "    avg_out_deg_u_weighted = round(sum(networkdf_u[\"out_degree_weighted\"])/len(networkdf_u[\"out_degree_weighted\"]), 1)\n",
    "    \n",
    "    \n",
    "    \n",
    "    print(f'''\n",
    "          The average dregree for male is {avg_deg_m}.\n",
    "          The average dregree for female high is {avg_deg_f}. \n",
    "          The average dregree for unknown is {avg_deg_u}.\n",
    "          \n",
    "          The average in_degree for male is {avg_in_deg_m}.\n",
    "          The average in_degree for female high is {avg_in_deg_f}. \n",
    "          The average in_degree for unknown is {avg_in_deg_u}.\n",
    "          \n",
    "          The average out_degree for male is {avg_out_deg_m}.\n",
    "          The average out_degree for female high is {avg_out_deg_f}. \n",
    "          The average out_degree for unknown is {avg_out_deg_u}.\n",
    "          \n",
    "          \n",
    "          \n",
    "          The average dregree weighted for male is {avg_deg_m_weighted}.\n",
    "          The average dregree weighted for female is {avg_deg_f_weighted}. \n",
    "          The average dregree weighted for unknown is {avg_deg_u_weighted}.\n",
    "          \n",
    "          The average in_degree weighted for male is {avg_in_deg_m_weighted}.\n",
    "          The average in_degree weighted for female is {avg_in_deg_f_weighted}. \n",
    "          The average in_degree weighted for unknown is {avg_in_deg_u_weighted}.\n",
    "          \n",
    "          The average out_degree weighted for male is {avg_out_deg_m_weighted}.\n",
    "          The average out_degree weighted for female is {avg_out_deg_f_weighted}. \n",
    "          The average out_degree weighted for unknown is {avg_out_deg_u_weighted}.\n",
    "          \n",
    "          ''')\n",
    "        \n",
    "who_is_better_connected(issue_g)"
   ]
  },
  {
   "cell_type": "markdown",
   "metadata": {},
   "source": [
    "Interpretation: If the in_degree is higher: this type of user got more people answering their questions.\n",
    "\n",
    "If the out_degree is higher: this type of user commented on more different people's questions. "
   ]
  },
  {
   "cell_type": "markdown",
   "metadata": {},
   "source": [
    "### EI Index"
   ]
  },
  {
   "cell_type": "code",
   "execution_count": 36,
   "metadata": {},
   "outputs": [
    {
     "name": "stdout",
     "output_type": "stream",
     "text": [
      "EI Index for attribute \"gender\":\t -0.717 \n"
     ]
    }
   ],
   "source": [
    "# code adapted from the lecture \n",
    "\n",
    "issue_g_gender = issue_g.copy()\n",
    "nodes_to_remove = []\n",
    "for node in issue_g_gender.nodes(): \n",
    "    if issue_g_gender.nodes[node][\"gender\"] == \"unkown\": \n",
    "        nodes_to_remove.append(node)\n",
    "    else: \n",
    "        pass\n",
    "        \n",
    "issue_g_gender.remove_nodes_from(nodes_to_remove)      \n",
    "\n",
    "\n",
    "for i in [\"gender\"]:\n",
    "    if len(issue_g_gender.edges) == 0:\n",
    "        print(\"cannot calculate EI-index on a graph with no edges\")\n",
    "\n",
    "    else: \n",
    "        E = len([x for x in issue_g_gender.edges if issue_g_gender.nodes[x[0]][i] != issue_g_gender.nodes[x[1]][i]])\n",
    "        I = len([x for x in issue_g_gender.edges if issue_g_gender.nodes[x[0]][i] == issue_g_gender.nodes[x[1]][i]])\n",
    "        \n",
    "        ei_index =  (E - I) / len(issue_g_gender.edges)\n",
    "\n",
    "    print(\"EI Index for attribute \\\"%s\\\":\\t %1.3f \" % (i,ei_index))"
   ]
  },
  {
   "cell_type": "markdown",
   "metadata": {},
   "source": [
    "### Assortativity"
   ]
  },
  {
   "cell_type": "code",
   "execution_count": 37,
   "metadata": {},
   "outputs": [
    {
     "name": "stdout",
     "output_type": "stream",
     "text": [
      "Assortativity by gender: (unfiltered) 0.059\n",
      "The filtered list contains 18338 of 32102 total nodes\n",
      "Assortativity by gender: (filtered) 0.012\n"
     ]
    }
   ],
   "source": [
    "# code adapted from the lecture\n",
    "\n",
    "#network = issue_g_gender.copy()\n",
    "network = issue_g.copy()\n",
    "\n",
    "attribute = \"gender\"\n",
    "\n",
    "attribute_map = {\n",
    "    #\"M\":\"male\",\n",
    "    \"F\":\"female\", \n",
    "    \"unkown\":\"unknown\"\n",
    "}\n",
    "\n",
    "assort_coeff_1 = nx.attribute_assortativity_coefficient(network,attribute)\n",
    "print(\"Assortativity by {}: (unfiltered) {:.3f}\".format(attribute,assort_coeff_1))\n",
    "\n",
    "nodelist = [node_name for node_name in network.nodes if network.nodes[node_name][attribute] in attribute_map.keys()]\n",
    "print(\"The filtered list contains {} of {} total nodes\".format(len(nodelist),len(network.nodes)))\n",
    "\n",
    "assort_coeff_2 = nx.attribute_assortativity_coefficient(network,attribute,nodelist)\n",
    "print(\"Assortativity by {}: (filtered) {:.3f}\".format(attribute,assort_coeff_2))"
   ]
  },
  {
   "cell_type": "code",
   "execution_count": 39,
   "metadata": {},
   "outputs": [
    {
     "data": {
      "text/plain": [
       "-0.1919302869061351"
      ]
     },
     "execution_count": 39,
     "metadata": {},
     "output_type": "execute_result"
    }
   ],
   "source": [
    "nx.degree_assortativity_coefficient(issue_g)"
   ]
  },
  {
   "cell_type": "markdown",
   "metadata": {},
   "source": [
    "### Reciprocity"
   ]
  },
  {
   "cell_type": "code",
   "execution_count": 42,
   "metadata": {},
   "outputs": [],
   "source": [
    "# Reciprocity for ties\n",
    "all_recip =  nx.algorithms.reciprocity(issue_g, issue_g.nodes) # returns reciprocity value per node"
   ]
  },
  {
   "cell_type": "code",
   "execution_count": 43,
   "metadata": {},
   "outputs": [
    {
     "data": {
      "text/plain": [
       "<AxesSubplot:ylabel='Count'>"
      ]
     },
     "execution_count": 43,
     "metadata": {},
     "output_type": "execute_result"
    },
    {
     "data": {
      "image/png": "[encoded data removed]",
      "text/plain": [
       "<Figure size 432x288 with 1 Axes>"
      ]
     },
     "metadata": {
      "needs_background": "light"
     },
     "output_type": "display_data"
    }
   ],
   "source": [
    "sns.histplot(pd.Series(all_recip))"
   ]
  },
  {
   "cell_type": "markdown",
   "metadata": {},
   "source": [
    "### Degree based centrality measures"
   ]
  },
  {
   "cell_type": "code",
   "execution_count": 44,
   "metadata": {},
   "outputs": [
    {
     "data": {
      "text/plain": [
       "<AxesSubplot:ylabel='Count'>"
      ]
     },
     "execution_count": 44,
     "metadata": {},
     "output_type": "execute_result"
    },
    {
     "data": {
      "image/png": "[encoded data removed]",
      "text/plain": [
       "<Figure size 432x288 with 1 Axes>"
      ]
     },
     "metadata": {
      "needs_background": "light"
     },
     "output_type": "display_data"
    }
   ],
   "source": [
    "cc = nx.closeness_centrality(issue_g)\n",
    "sns.histplot(pd.Series(cc)) # 0: nodes that are isolates "
   ]
  },
  {
   "cell_type": "code",
   "execution_count": 45,
   "metadata": {},
   "outputs": [],
   "source": [
    "#bc = nx.betweenness_centrality(issue_g)\n",
    "#sns.histplot(pd.Series(bc))\n",
    "#ax.set(xscale=\"log\", yscale=\"log\")# because the distribution is extreamly skewed \n",
    "#plt.show()"
   ]
  },
  {
   "cell_type": "code",
   "execution_count": 46,
   "metadata": {},
   "outputs": [],
   "source": [
    "#dg = nx.degree_centrality(issue_g)\n",
    "#ax = sns.histplot(pd.Series(dg))\n",
    "#ax.set(xscale=\"log\", yscale=\"log\") # because the distribution is extreamly skewed \n",
    "#plt.show()"
   ]
  },
  {
   "cell_type": "markdown",
   "metadata": {},
   "source": [
    "# Reaction time and gender"
   ]
  },
  {
   "cell_type": "code",
   "execution_count": 47,
   "metadata": {},
   "outputs": [],
   "source": [
    "# filter data \n",
    "male_creators = {k: v for k, v in creators_to_gender.items() if v == \"M\"}\n",
    "female_creators = {k: v for k, v in creators_to_gender.items() if v == \"F\"}\n",
    "unknown_creators = {k: v for k, v in creators_to_gender.items() if v == \"Unknown\"}"
   ]
  },
  {
   "cell_type": "code",
   "execution_count": 49,
   "metadata": {},
   "outputs": [],
   "source": [
    "# calctulation of the time it took users to react to a post (by gender)\n",
    "reaction_time_male_init = []\n",
    "reaction_time_female_init = []\n",
    "reaction_time_unk_init = []\n",
    "\n",
    "for interaction in edges_and_weights: \n",
    "    initiator = interaction[1]\n",
    "    respondend = interaction[0]\n",
    "    time_diff = interaction[2]\n",
    "    days_in_secs = time_diff.days * 24 * 60 * 60 \n",
    "    secs = time_diff.seconds\n",
    "    \n",
    "    laps = round(((secs + days_in_secs) / (60 * 60)) *2) / 2 # this is hours\n",
    "    \n",
    "    if 0 < laps < (24 *7): ## this is one day (minutes) \n",
    "    \n",
    "        if user_to_gender[initiator] == \"M\": \n",
    "            reaction_time_male_init.append(laps)\n",
    "        elif user_to_gender[initiator] == \"F\": \n",
    "            reaction_time_female_init.append(laps)\n",
    "        else: \n",
    "            reaction_time_unk_init.append(laps)  "
   ]
  },
  {
   "cell_type": "code",
   "execution_count": 52,
   "metadata": {},
   "outputs": [],
   "source": [
    "reaction_data_f = pd.DataFrame(pd.Series(reaction_time_female_init).value_counts()).reset_index().rename(columns = {\"index\" : \"time\", 0 : \"value_counts\"})\n",
    "reaction_data_m = pd.DataFrame(pd.Series(reaction_time_male_init).value_counts()).reset_index().rename(columns = {\"index\" : \"time\", 0 : \"value_counts\"})\n",
    "reaction_data_u = pd.DataFrame(pd.Series(reaction_time_unk_init).value_counts()).reset_index().rename(columns = {\"index\" : \"time\", 0 : \"value_counts\"})"
   ]
  },
  {
   "cell_type": "code",
   "execution_count": 55,
   "metadata": {},
   "outputs": [],
   "source": [
    "# calculate the share of obeerservations\n",
    "for data in [reaction_data_f, reaction_data_m, reaction_data_u]:\n",
    "    data[\"share\"] = data[\"value_counts\"].map(lambda x: x / sum(data[\"value_counts\"]))\n",
    "    data = data.sort_values(by = [\"time\"]).reset_index().drop(columns = [\"index\"]).copy()"
   ]
  },
  {
   "cell_type": "code",
   "execution_count": 56,
   "metadata": {},
   "outputs": [
    {
     "data": {
      "text/html": [
       "<div>\n",
       "<style scoped>\n",
       "    .dataframe tbody tr th:only-of-type {\n",
       "        vertical-align: middle;\n",
       "    }\n",
       "\n",
       "    .dataframe tbody tr th {\n",
       "        vertical-align: top;\n",
       "    }\n",
       "\n",
       "    .dataframe thead th {\n",
       "        text-align: right;\n",
       "    }\n",
       "</style>\n",
       "<table border=\"1\" class=\"dataframe\">\n",
       "  <thead>\n",
       "    <tr style=\"text-align: right;\">\n",
       "      <th></th>\n",
       "      <th>time</th>\n",
       "      <th>value_counts</th>\n",
       "      <th>share</th>\n",
       "    </tr>\n",
       "  </thead>\n",
       "  <tbody>\n",
       "    <tr>\n",
       "      <th>0</th>\n",
       "      <td>0.5</td>\n",
       "      <td>467</td>\n",
       "      <td>0.188839</td>\n",
       "    </tr>\n",
       "    <tr>\n",
       "      <th>1</th>\n",
       "      <td>1.0</td>\n",
       "      <td>223</td>\n",
       "      <td>0.090174</td>\n",
       "    </tr>\n",
       "    <tr>\n",
       "      <th>2</th>\n",
       "      <td>1.5</td>\n",
       "      <td>154</td>\n",
       "      <td>0.062273</td>\n",
       "    </tr>\n",
       "    <tr>\n",
       "      <th>3</th>\n",
       "      <td>2.0</td>\n",
       "      <td>103</td>\n",
       "      <td>0.041650</td>\n",
       "    </tr>\n",
       "    <tr>\n",
       "      <th>4</th>\n",
       "      <td>3.0</td>\n",
       "      <td>78</td>\n",
       "      <td>0.031541</td>\n",
       "    </tr>\n",
       "  </tbody>\n",
       "</table>\n",
       "</div>"
      ],
      "text/plain": [
       "   time  value_counts     share\n",
       "0   0.5           467  0.188839\n",
       "1   1.0           223  0.090174\n",
       "2   1.5           154  0.062273\n",
       "3   2.0           103  0.041650\n",
       "4   3.0            78  0.031541"
      ]
     },
     "execution_count": 56,
     "metadata": {},
     "output_type": "execute_result"
    }
   ],
   "source": [
    "reaction_data_f.head()"
   ]
  },
  {
   "cell_type": "code",
   "execution_count": 57,
   "metadata": {},
   "outputs": [],
   "source": [
    "# generate the normalised data frame\n",
    "\n",
    "norm_f = []\n",
    "norm_m = []\n",
    "norm_u = []\n",
    "\n",
    "for i in range(len(reaction_data_f)):\n",
    "    share = reaction_data_f.iloc[i][\"share\"]\n",
    "    time = str(reaction_data_f.iloc[i][\"time\"])\n",
    "    how_often = int(round(len(reaction_time_male_init)*share))\n",
    "    norm_f.extend(repeat(time, how_often))\n",
    "    \n",
    "for i in range(len(reaction_data_u)):\n",
    "    share = reaction_data_u.iloc[i][\"share\"]\n",
    "    time = str(reaction_data_u.iloc[i][\"time\"])\n",
    "    how_often = int(round(len(reaction_time_male_init)*share))\n",
    "    norm_u.extend(repeat(time, how_often))\n",
    "    \n",
    "for i in range(len(reaction_data_m)):\n",
    "    share = reaction_data_m.iloc[i][\"share\"]\n",
    "    time = str(reaction_data_m.iloc[i][\"time\"])\n",
    "    how_often = int(round(len(reaction_time_male_init)*share))\n",
    "    norm_m.extend(repeat(time, how_often))"
   ]
  },
  {
   "cell_type": "code",
   "execution_count": 93,
   "metadata": {},
   "outputs": [
    {
     "data": {
      "image/png": "[encoded data removed]",
      "text/plain": [
       "<Figure size 360x432 with 1 Axes>"
      ]
     },
     "metadata": {
      "needs_background": "light"
     },
     "output_type": "display_data"
    }
   ],
   "source": [
    "# Plot the normalised data\n",
    "\n",
    "colors = ['#E69F00', '#56B4E9', '#F0E442']\n",
    "names = ['Female', 'Male', 'Unknown']\n",
    "\n",
    "norm_f = [float(x) for x in norm_f]\n",
    "norm_m = [float(x) for x in norm_m]\n",
    "norm_u = [float(x) for x in norm_u]\n",
    "\n",
    "\n",
    "plt.figure(figsize = (5, 6))\n",
    "plt.grid(color='grey', linestyle='--', linewidth=0.5, alpha = 0.2)\n",
    "plt.hist([norm_f, norm_m, norm_u], color = colors, label=names, bins = 14)\n",
    "\n",
    "\n",
    "# Plot formatting\n",
    "plt.legend()\n",
    "plt.xlabel('Time lag (hours)')\n",
    "plt.ylabel('Normalized counts')\n",
    "plt.yscale('log') \n",
    "#plt.xscale('log') \n",
    "plt.tight_layout()\n",
    "#plt.title(\"Reponse time in minutes\\n differentiated by the initiator's gender\")\n",
    "\n",
    "plt.savefig(\"Response_time_gender.pdf\", dpi=350, facecolor='w', edgecolor='w', format=\"pdf\",\n",
    "        transparent=True, bbox_inches=None, pad_inches=0.1)"
   ]
  },
  {
   "cell_type": "code",
   "execution_count": 91,
   "metadata": {},
   "outputs": [
    {
     "data": {
      "text/html": [
       "<div>\n",
       "<style scoped>\n",
       "    .dataframe tbody tr th:only-of-type {\n",
       "        vertical-align: middle;\n",
       "    }\n",
       "\n",
       "    .dataframe tbody tr th {\n",
       "        vertical-align: top;\n",
       "    }\n",
       "\n",
       "    .dataframe thead th {\n",
       "        text-align: right;\n",
       "    }\n",
       "</style>\n",
       "<table border=\"1\" class=\"dataframe\">\n",
       "  <thead>\n",
       "    <tr style=\"text-align: right;\">\n",
       "      <th></th>\n",
       "      <th>Time_laps</th>\n",
       "      <th>Gender</th>\n",
       "    </tr>\n",
       "  </thead>\n",
       "  <tbody>\n",
       "    <tr>\n",
       "      <th>0</th>\n",
       "      <td>232.0</td>\n",
       "      <td>unkown</td>\n",
       "    </tr>\n",
       "    <tr>\n",
       "      <th>1</th>\n",
       "      <td>630.0</td>\n",
       "      <td>unkown</td>\n",
       "    </tr>\n",
       "    <tr>\n",
       "      <th>2</th>\n",
       "      <td>53.0</td>\n",
       "      <td>unkown</td>\n",
       "    </tr>\n",
       "    <tr>\n",
       "      <th>3</th>\n",
       "      <td>299.5</td>\n",
       "      <td>M</td>\n",
       "    </tr>\n",
       "    <tr>\n",
       "      <th>4</th>\n",
       "      <td>134.0</td>\n",
       "      <td>M</td>\n",
       "    </tr>\n",
       "  </tbody>\n",
       "</table>\n",
       "</div>"
      ],
      "text/plain": [
       "   Time_laps  Gender\n",
       "0      232.0  unkown\n",
       "1      630.0  unkown\n",
       "2       53.0  unkown\n",
       "3      299.5       M\n",
       "4      134.0       M"
      ]
     },
     "execution_count": 91,
     "metadata": {},
     "output_type": "execute_result"
    }
   ],
   "source": [
    "# create and save data frame from the regression\n",
    "\n",
    "time_diff_data = []\n",
    "accord_gender = []\n",
    "\n",
    "for interaction in edges_and_weights: \n",
    "    initiator = interaction[1]\n",
    "    respondend = interaction[0]\n",
    "    time_diff = interaction[2]\n",
    "    days_in_secs = time_diff.days * 24 * 60 * 60 \n",
    "    secs = time_diff.seconds\n",
    "    \n",
    "    laps = round(((secs + days_in_secs) / (60)) *2) / 2 # this is minutes\n",
    "    \n",
    "    if 0 < laps < (7*24* 60): # a week in minutes\n",
    "    \n",
    "        time_diff_data.append(laps)\n",
    "        accord_gender.append(user_to_gender[initiator])\n",
    "\n",
    "regression_data = pd.DataFrame(list(zip(time_diff_data, accord_gender)), columns =['Time_laps', 'Gender'])\n",
    "regression_data.head(5)"
   ]
  },
  {
   "cell_type": "code",
   "execution_count": 92,
   "metadata": {},
   "outputs": [],
   "source": [
    "regression_data.to_csv('regression_data.csv', index = False) "
   ]
  },
  {
   "cell_type": "markdown",
   "metadata": {},
   "source": [
    "## Modularity of the network"
   ]
  },
  {
   "cell_type": "code",
   "execution_count": 75,
   "metadata": {},
   "outputs": [
    {
     "name": "stdout",
     "output_type": "stream",
     "text": [
      "Name: \n",
      "Type: Graph\n",
      "Number of nodes: 25973\n",
      "Number of edges: 48390\n",
      "Average degree:   3.7262\n",
      "The modularity by gender is: 0.030\n"
     ]
    },
    {
     "data": {
      "image/png": "[encoded data removed]",
      "text/plain": [
       "<Figure size 432x288 with 1 Axes>"
      ]
     },
     "metadata": {},
     "output_type": "display_data"
    },
    {
     "name": "stdout",
     "output_type": "stream",
     "text": [
      "The modularity by Louvain (best) is: 0.603\n"
     ]
    },
    {
     "data": {
      "image/png": "[encoded data removed]",
      "text/plain": [
       "<Figure size 432x288 with 1 Axes>"
      ]
     },
     "metadata": {},
     "output_type": "display_data"
    }
   ],
   "source": [
    "# code is adapted from the lecture\n",
    "\n",
    "attr_list = [\"gender\"]\n",
    "\n",
    "triads_g_nondi_clean = clean_graph(issue_g,attribute_list=attr_list)\n",
    "\n",
    "print(nx.info(triads_g_nondi_clean))\n",
    "\n",
    "pos = nx.spring_layout(triads_g_nondi_clean) # let's have one single position value for all of the graphs we are comparing.\n",
    "\n",
    "for i in attr_list:\n",
    "    partition = partition_from_attr(triads_g_nondi_clean,i)\n",
    "    print(\"The modularity by {} is: {:.3f}\".format(i, community.modularity(partition,triads_g_nondi_clean)))\n",
    "    draw_partition(triads_g_nondi_clean,partition_from_attr(triads_g_nondi_clean,i),pos)\n",
    "\n",
    "# Use the Louvain method for community detection\n",
    "partition = community.best_partition(triads_g_nondi_clean)\n",
    "print(\"The modularity by Louvain (best) is: {:.3f}\".format( community.modularity(partition,triads_g_nondi_clean)))\n",
    "draw_partition(triads_g_nondi_clean,partition,pos)"
   ]
  }
 ],
 "metadata": {
  "kernelspec": {
   "display_name": "Python 3",
   "language": "python",
   "name": "python3"
  },
  "language_info": {
   "codemirror_mode": {
    "name": "ipython",
    "version": 3
   },
   "file_extension": ".py",
   "mimetype": "text/x-python",
   "name": "python",
   "nbconvert_exporter": "python",
   "pygments_lexer": "ipython3",
   "version": "3.8.5"
  }
 },
 "nbformat": 4,
 "nbformat_minor": 4
}
