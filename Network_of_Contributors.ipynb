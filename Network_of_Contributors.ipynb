{
 "cells": [
  {
   "cell_type": "markdown",
   "metadata": {},
   "source": [
    "# Constructin the network of collaboration\n",
    "**Creation of a weighted directed graph for collaborators on vuejs repos**"
   ]
  },
  {
   "cell_type": "code",
   "execution_count": 93,
   "metadata": {},
   "outputs": [],
   "source": [
    "import json\n",
    "import random \n",
    "import numpy as np\n",
    "import itertools\n",
    "import networkx as nx \n",
    "import seaborn as sns\n",
    "import matplotlib.pyplot as plt\n",
    "import pandas as pd\n",
    "import community\n",
    "\n",
    "from helper_func_networks import clean_graph, partition_from_attr, random_color, draw_partition\n",
    "from itertools import repeat\n",
    "from string import ascii_letters\n",
    "\n",
    "colors = ['#E69F00', '#56B4E9', '#F0E442', '#F1948A', '#7DCEA0']"
   ]
  },
  {
   "cell_type": "code",
   "execution_count": 2,
   "metadata": {},
   "outputs": [],
   "source": [
    "# load in data\n",
    "with open('info_about_contributers_per_repo_II.txt', 'r') as infile:\n",
    "    contributor_to_repo_dict = json.load(infile)\n",
    "infile.close()"
   ]
  },
  {
   "cell_type": "code",
   "execution_count": 3,
   "metadata": {},
   "outputs": [],
   "source": [
    "# load in data\n",
    "with open('username_to_gender_dic.txt', 'r') as infile:\n",
    "    username_to_gender_dic = json.load(infile)\n",
    "infile.close()"
   ]
  },
  {
   "cell_type": "code",
   "execution_count": 4,
   "metadata": {},
   "outputs": [],
   "source": [
    "# create dictonary in which the edges and corresponding edge weights are stored based on the repos\n",
    "\n",
    "repo_to_edge_to_weight = {}\n",
    "for repo in list(contributor_to_repo_dict.keys()):\n",
    "    all_contributors = list(contributor_to_repo_dict[repo].keys())[1:]\n",
    "    contributors = []\n",
    "    for contri in all_contributors:\n",
    "        if \"[bot]\" in contri: \n",
    "            pass\n",
    "        else: \n",
    "            contributors.append(contri)\n",
    "    combis = list(itertools.permutations(contributors, 2))\n",
    "    \n",
    "    edge_to_weight = {}\n",
    "    for combi in combis: \n",
    "        weight_combi =  (contributor_to_repo_dict[repo][combi[0]] + contributor_to_repo_dict[repo][combi[1]]) / contributor_to_repo_dict[repo][\"TotalCount_Contributions\"]\n",
    "        edge_to_weight[combi] = weight_combi\n",
    "        \n",
    "    repo_to_edge_to_weight[repo] = edge_to_weight"
   ]
  },
  {
   "cell_type": "code",
   "execution_count": 5,
   "metadata": {},
   "outputs": [],
   "source": [
    "# (user1, user2, weight) is symmetric ((user1, user2, weight) = (user2, user1, weight))\n",
    "# however as the graph is directed, edges are kept for both directions\n",
    "\n",
    "pre_edges = []\n",
    "for repo in list(repo_to_edge_to_weight.keys()):\n",
    "    for edge in repo_to_edge_to_weight[repo].keys(): \n",
    "        pre_edges.append(tuple(edge))\n",
    "edges = list(set(pre_edges))"
   ]
  },
  {
   "cell_type": "code",
   "execution_count": 6,
   "metadata": {},
   "outputs": [],
   "source": [
    "# assign cummulative weight\n",
    "edge_to_cum_weight = {}\n",
    "\n",
    "for edge in edges: \n",
    "    edge_weight_cum = 0\n",
    "    for repo in list(repo_to_edge_to_weight.keys()): \n",
    "        if edge in repo_to_edge_to_weight[repo].keys():\n",
    "            edge_weight_cum += repo_to_edge_to_weight[repo][edge]\n",
    "        else: \n",
    "            pass \n",
    "        \n",
    "    edge_to_cum_weight[edge] = edge_weight_cum"
   ]
  },
  {
   "cell_type": "code",
   "execution_count": 7,
   "metadata": {},
   "outputs": [],
   "source": [
    "edge_to_cum_weight = dict(sorted(edge_to_cum_weight.items(), key = lambda item: item[1], reverse = True))"
   ]
  },
  {
   "cell_type": "code",
   "execution_count": 8,
   "metadata": {},
   "outputs": [],
   "source": [
    "# get unique users, the users will be the nodes of the graph\n",
    "users = []\n",
    "for tup in list(edge_to_cum_weight.keys()):\n",
    "    for i in range(len(tup)): \n",
    "        users.append(tup[i])\n",
    "users = set(users)"
   ]
  },
  {
   "cell_type": "code",
   "execution_count": 9,
   "metadata": {},
   "outputs": [],
   "source": [
    "# store the atrributes of each user in a dictionary\n",
    "# the attributes will be assigned to the nodes\n",
    "\n",
    "repos = list(contributor_to_repo_dict.keys())\n",
    "user_to_attributes = {}\n",
    "for user in users:\n",
    "    \n",
    "    if \"[bot]\" in user: \n",
    "            pass\n",
    "    else: \n",
    "        user_to_attributes[user] = {}\n",
    "        contRepos = []\n",
    "        totalContributions = 0\n",
    "        for repo in repos: \n",
    "            if user in list(contributor_to_repo_dict[repo].keys()):\n",
    "                contRepos.append(repo)\n",
    "                totalContributions += contributor_to_repo_dict[repo][user]\n",
    "            else: \n",
    "                pass\n",
    "\n",
    "        totalRepos = len(contRepos)\n",
    "        user_to_attributes[user][\"contRepos\"] = tuple(contRepos)\n",
    "        user_to_attributes[user][\"numberContRepos\"] = totalRepos\n",
    "        user_to_attributes[user][\"totalContr\"] = totalContributions"
   ]
  },
  {
   "cell_type": "code",
   "execution_count": 10,
   "metadata": {},
   "outputs": [],
   "source": [
    "# load in the names to gender data set\n",
    "with open('US_names_dic.txt', 'r') as infile:\n",
    "    names_dict = json.load(infile)\n",
    "infile.close()"
   ]
  },
  {
   "cell_type": "code",
   "execution_count": 11,
   "metadata": {},
   "outputs": [],
   "source": [
    "# create the graph\n",
    "\n",
    "triads_g = nx.DiGraph()\n",
    "triads_g.name = \"Contributed_to_same_repo\"\n",
    "\n",
    "for user in users:\n",
    "    try: \n",
    "        triads_g.add_node(user, \n",
    "                          contRepos =  user_to_attributes[user]['contRepos'], \n",
    "                          numberContRepos = user_to_attributes[user]['numberContRepos'], \n",
    "                          totalContr = user_to_attributes[user]['totalContr'], \n",
    "                          gender = username_to_gender_dic[user])\n",
    "    except KeyError: \n",
    "        triads_g.add_node(user, \n",
    "                          contRepos =  user_to_attributes[user]['contRepos'], \n",
    "                          numberContRepos = user_to_attributes[user]['numberContRepos'], \n",
    "                          totalContr = user_to_attributes[user]['totalContr'], \n",
    "                          gender = \"unkown\")\n",
    "\n",
    "    \n",
    "container = []\n",
    "for edge in edge_to_cum_weight.keys(): \n",
    "    container.append(tuple((edge[0], \n",
    "                       edge[1], \n",
    "                       edge_to_cum_weight[edge])))\n",
    "\n",
    "triads_g.add_weighted_edges_from(container)"
   ]
  },
  {
   "cell_type": "code",
   "execution_count": 12,
   "metadata": {},
   "outputs": [],
   "source": [
    "fobid_tr_per_repo_g = triads_g.copy()"
   ]
  },
  {
   "cell_type": "code",
   "execution_count": 13,
   "metadata": {},
   "outputs": [
    {
     "name": "stdout",
     "output_type": "stream",
     "text": [
      "Name: Contributed_to_same_repo\n",
      "Type: DiGraph\n",
      "Number of nodes: 1091\n",
      "Number of edges: 35070\n",
      "Average in degree:  32.1448\n",
      "Average out degree:  32.1448\n"
     ]
    }
   ],
   "source": [
    "print(nx.info(triads_g))"
   ]
  },
  {
   "cell_type": "code",
   "execution_count": 14,
   "metadata": {},
   "outputs": [],
   "source": [
    "#filter network down. Keep only user that contributed to at least one repo and made at least one contribution. \n",
    "to_remove = []\n",
    "for node in triads_g.nodes(): \n",
    "    if dict(triads_g.nodes().data())[node]['numberContRepos'] < 2:\n",
    "        to_remove.append(node)\n",
    "    elif dict(triads_g.nodes().data())[node]['totalContr'] < 2: \n",
    "        to_remove.append(node)\n",
    "    else: \n",
    "        pass"
   ]
  },
  {
   "cell_type": "code",
   "execution_count": 15,
   "metadata": {},
   "outputs": [],
   "source": [
    "triads_g.remove_nodes_from(to_remove)"
   ]
  },
  {
   "cell_type": "code",
   "execution_count": 16,
   "metadata": {},
   "outputs": [
    {
     "name": "stdout",
     "output_type": "stream",
     "text": [
      "Name: Contributed_to_same_repo\n",
      "Type: DiGraph\n",
      "Number of nodes: 169\n",
      "Number of edges: 5628\n",
      "Average in degree:  33.3018\n",
      "Average out degree:  33.3018\n"
     ]
    }
   ],
   "source": [
    "print(nx.info(triads_g))"
   ]
  },
  {
   "cell_type": "markdown",
   "metadata": {},
   "source": [
    "### Investigate components"
   ]
  },
  {
   "cell_type": "code",
   "execution_count": 17,
   "metadata": {},
   "outputs": [
    {
     "data": {
      "text/plain": [
       "<generator object strongly_connected_components at 0x7fb74871a510>"
      ]
     },
     "execution_count": 17,
     "metadata": {},
     "output_type": "execute_result"
    }
   ],
   "source": [
    "nx.strongly_connected_components(triads_g)"
   ]
  },
  {
   "cell_type": "code",
   "execution_count": 18,
   "metadata": {},
   "outputs": [
    {
     "data": {
      "text/plain": [
       "<generator object weakly_connected_components at 0x7fb74871a820>"
      ]
     },
     "execution_count": 18,
     "metadata": {},
     "output_type": "execute_result"
    }
   ],
   "source": [
    "nx.weakly_connected_components(triads_g)"
   ]
  },
  {
   "cell_type": "code",
   "execution_count": 19,
   "metadata": {},
   "outputs": [
    {
     "name": "stdout",
     "output_type": "stream",
     "text": [
      "For network Contributed_to_same_repo: \n",
      "\n",
      "\tNumber of nodes in the giant component: 166\n",
      "\tThe share of nodes in the giant component of the network is 98.22%.\n",
      "\tNumber of nodes in the largest weakly component: 166\n",
      "\tThe share of nodes in the giant component of the network is 98.22%.\n",
      "\tThe average path length of the wohle network is 1.8.\n"
     ]
    }
   ],
   "source": [
    "# investigate components \n",
    "for network in [triads_g]:\n",
    "    print(f\"For network {network}: \\n\")\n",
    "    \n",
    "    # identify largest strongly connected component\n",
    "    Gcc = sorted(nx.strongly_connected_components(network), key=len, reverse = True)\n",
    "    \n",
    "    list_of_nodes_in_Gcom = list(Gcc[0])\n",
    "    print(f\"\\tNumber of nodes in the giant component: {len(list_of_nodes_in_Gcom)}\")\n",
    "\n",
    "    print(f\"\\tThe share of nodes in the giant component of the network is {round(len(list_of_nodes_in_Gcom) / len(list(network)) *100, 2)}%.\")\n",
    "    \n",
    "    # identify largest weakly connected component\n",
    "    Gcc = sorted(nx.weakly_connected_components(network), key=len, reverse = True)\n",
    "    \n",
    "    list_of_nodes_in_Gcom = list(Gcc[0])\n",
    "    print(f\"\\tNumber of nodes in the largest weakly component: {len(list_of_nodes_in_Gcom)}\")\n",
    "\n",
    "    print(f\"\\tThe share of nodes in the giant component of the network is {round(len(list_of_nodes_in_Gcom) / len(list(network)) *100, 2)}%.\")\n",
    "\n",
    "    Gcc = max(nx.weakly_connected_components(network))\n",
    "    G0 = network.subgraph(Gcc)\n",
    "\n",
    "    avg_paths = nx.average_shortest_path_length(G0)\n",
    "    \n",
    "    print(f\"\\tThe average path length of the wohle network is {round(avg_paths, 2)}.\")"
   ]
  },
  {
   "cell_type": "code",
   "execution_count": 20,
   "metadata": {},
   "outputs": [
    {
     "name": "stdout",
     "output_type": "stream",
     "text": [
      "Number of nodes:  169\n",
      "Density of the graph: 0.198 \n",
      "Max possible edges:  28392\n",
      "Actual number of edges:  5628\n",
      "Number of reciprocated edges:  5628.0\n"
     ]
    }
   ],
   "source": [
    "# get information about the network\n",
    "num_nodes = len(triads_g.nodes)\n",
    "num_edges = len(triads_g.edges)\n",
    "recip_score = nx.reciprocity(triads_g)\n",
    "recip_edges = recip_score*num_edges\n",
    "tot_possible_edges = num_nodes * (num_nodes -1) \n",
    "\n",
    "unrecip_edges = num_edges - recip_edges\n",
    "\n",
    "print(\"Number of nodes: \", num_nodes)\n",
    "print(\"Density of the graph: {:.3f} \".format(nx.density(triads_g)))\n",
    "print(\"Max possible edges: \", tot_possible_edges)\n",
    "print(\"Actual number of edges: \", num_edges)\n",
    "print(\"Number of reciprocated edges: \", recip_edges)"
   ]
  },
  {
   "cell_type": "markdown",
   "metadata": {},
   "source": [
    "### Who is better connected"
   ]
  },
  {
   "cell_type": "code",
   "execution_count": 23,
   "metadata": {},
   "outputs": [
    {
     "data": {
      "text/html": [
       "<div>\n",
       "<style scoped>\n",
       "    .dataframe tbody tr th:only-of-type {\n",
       "        vertical-align: middle;\n",
       "    }\n",
       "\n",
       "    .dataframe tbody tr th {\n",
       "        vertical-align: top;\n",
       "    }\n",
       "\n",
       "    .dataframe thead th {\n",
       "        text-align: right;\n",
       "    }\n",
       "</style>\n",
       "<table border=\"1\" class=\"dataframe\">\n",
       "  <thead>\n",
       "    <tr style=\"text-align: right;\">\n",
       "      <th></th>\n",
       "      <th>contRepos</th>\n",
       "      <th>numberContRepos</th>\n",
       "      <th>totalContr</th>\n",
       "      <th>gender</th>\n",
       "      <th>degree</th>\n",
       "    </tr>\n",
       "  </thead>\n",
       "  <tbody>\n",
       "    <tr>\n",
       "      <th>Mister-Hope</th>\n",
       "      <td>(vuepress, composition-api)</td>\n",
       "      <td>2</td>\n",
       "      <td>8</td>\n",
       "      <td>unkown</td>\n",
       "      <td>52</td>\n",
       "    </tr>\n",
       "    <tr>\n",
       "      <th>caozhong1996</th>\n",
       "      <td>(vue-docs-zh-cn, jsx-next, docs-next-zh-cn)</td>\n",
       "      <td>3</td>\n",
       "      <td>6</td>\n",
       "      <td>M</td>\n",
       "      <td>18</td>\n",
       "    </tr>\n",
       "    <tr>\n",
       "      <th>znck</th>\n",
       "      <td>(vue, vue-router, vue-devtools, vue-component-...</td>\n",
       "      <td>11</td>\n",
       "      <td>147</td>\n",
       "      <td>M</td>\n",
       "      <td>128</td>\n",
       "    </tr>\n",
       "    <tr>\n",
       "      <th>crswll</th>\n",
       "      <td>(vue-touch, vue-devtools, jp.vuejs.org, v1-jp....</td>\n",
       "      <td>5</td>\n",
       "      <td>25</td>\n",
       "      <td>M</td>\n",
       "      <td>80</td>\n",
       "    </tr>\n",
       "    <tr>\n",
       "      <th>gbezyuk</th>\n",
       "      <td>(vue-router, vuejs.org, vuex)</td>\n",
       "      <td>3</td>\n",
       "      <td>24</td>\n",
       "      <td>M</td>\n",
       "      <td>88</td>\n",
       "    </tr>\n",
       "  </tbody>\n",
       "</table>\n",
       "</div>"
      ],
      "text/plain": [
       "                                                      contRepos  \\\n",
       "Mister-Hope                         (vuepress, composition-api)   \n",
       "caozhong1996        (vue-docs-zh-cn, jsx-next, docs-next-zh-cn)   \n",
       "znck          (vue, vue-router, vue-devtools, vue-component-...   \n",
       "crswll        (vue-touch, vue-devtools, jp.vuejs.org, v1-jp....   \n",
       "gbezyuk                           (vue-router, vuejs.org, vuex)   \n",
       "\n",
       "              numberContRepos  totalContr  gender  degree  \n",
       "Mister-Hope                 2           8  unkown      52  \n",
       "caozhong1996                3           6       M      18  \n",
       "znck                       11         147       M     128  \n",
       "crswll                      5          25       M      80  \n",
       "gbezyuk                     3          24       M      88  "
      ]
     },
     "execution_count": 23,
     "metadata": {},
     "output_type": "execute_result"
    }
   ],
   "source": [
    "networkdf = pd.DataFrame.from_dict(dict(triads_g.nodes),orient=\"index\")\n",
    "networkdf[\"degree\"] = pd.Series(dict(nx.degree(triads_g)))\n",
    "networkdf.head()"
   ]
  },
  {
   "cell_type": "code",
   "execution_count": 47,
   "metadata": {},
   "outputs": [
    {
     "name": "stdout",
     "output_type": "stream",
     "text": [
      "The average degree for very low is 54.4. \n",
      "          The average dregree for low is 79.8.\n",
      "          The average dregree for median is 130.7.\n",
      "          The average dregree for high is 97.1.\n",
      "          The average dregree for very high is 148.5.\n",
      "\n",
      "\n",
      "          The average dregree for male is 70.5.\n",
      "          The average dregree for female is 59.7. \n",
      "          The average dregree for unknown is 64.0.\n",
      "          \n",
      "          The average dregree for the whole network is 66.6.\n",
      "          \n"
     ]
    },
    {
     "data": {
      "image/png": "[encoded data removed]",
      "text/plain": [
       "<Figure size 504x360 with 1 Axes>"
      ]
     },
     "metadata": {
      "needs_background": "light"
     },
     "output_type": "display_data"
    }
   ],
   "source": [
    "def who_is_better_connected():\n",
    "    networkdf = pd.DataFrame.from_dict(dict(triads_g.nodes),orient=\"index\")\n",
    "    \n",
    "    networkdf[\"degree\"] = pd.Series(dict(nx.degree(triads_g)))\n",
    "    #print(networkdf.head())\n",
    "    \n",
    "    networkdf_very_low = networkdf[networkdf['totalContr'] <= 100]\n",
    "    networkdf_low = networkdf[(100 < networkdf['totalContr']) & ( networkdf['totalContr'] <= 200) ]\n",
    "    networkdf_median = networkdf[(200 < networkdf['totalContr']) & ( networkdf['totalContr'] <= 300) ]\n",
    "    networkdf_high = networkdf[(300 < networkdf['totalContr']) & ( networkdf['totalContr'] <= 400) ]\n",
    "    networkdf_very_high = networkdf[networkdf['totalContr'] > 400]\n",
    "    \n",
    "    networkdf_m = networkdf[networkdf['gender'] == \"M\"]\n",
    "    networkdf_f = networkdf[networkdf['gender'] == \"F\"]\n",
    "    networkdf_u = networkdf[networkdf['gender'] == \"unkown\"]\n",
    "    \n",
    "    avg_deg_very_low = round(sum(networkdf_very_low[\"degree\"])/len(networkdf_very_low[\"degree\"]), 1)\n",
    "    avg_deg_low = round(sum(networkdf_low[\"degree\"])/len(networkdf_low[\"degree\"]), 1)\n",
    "    avg_deg_median = round(sum(networkdf_median[\"degree\"])/len(networkdf_median[\"degree\"]), 1)\n",
    "    avg_deg_high = round(sum(networkdf_high[\"degree\"])/len(networkdf_high[\"degree\"]), 1)\n",
    "    avg_deg_very_high = round(sum(networkdf_very_high[\"degree\"])/len(networkdf_very_high[\"degree\"]), 1)\n",
    "    \n",
    "    avg_deg_m = round(sum(networkdf_m[\"degree\"])/len(networkdf_m[\"degree\"]), 1)\n",
    "    avg_deg_f = round(sum(networkdf_f[\"degree\"])/len(networkdf_f[\"degree\"]), 1)\n",
    "    avg_deg_u = round(sum(networkdf_u[\"degree\"])/len(networkdf_u[\"degree\"]), 1)\n",
    "    avg_deg_all = round(sum(networkdf[\"degree\"])/len(networkdf[\"degree\"]), 1)\n",
    "    \n",
    "    print(f'''The average degree for very low is {avg_deg_very_low}. \n",
    "          The average dregree for low is {avg_deg_low}.\n",
    "          The average dregree for median is {avg_deg_median}.\n",
    "          The average dregree for high is {avg_deg_high}.\n",
    "          The average dregree for very high is {avg_deg_very_high}.\\n\\n\n",
    "          The average dregree for male is {avg_deg_m}.\n",
    "          The average dregree for female is {avg_deg_f}. \n",
    "          The average dregree for unknown is {avg_deg_u}.\n",
    "          \n",
    "          The average dregree for the whole network is {avg_deg_all}.\n",
    "          ''')\n",
    "    \n",
    "#    bins = 14\n",
    "#    sns.histplot(pd.Series(networkdf_m[\"degree\"]), binwidth=10, stat= \"probability\", color = '#E69F00', kde = False, element=\"step\")#, hue = 0.5)\n",
    "#    plt.ylim(0, 0.3)\n",
    "#    plt.xlim(0, 350)\n",
    "    #plt.show()\n",
    "#    sns.histplot(pd.Series(networkdf_u[\"degree\"]), binwidth=10, stat= \"probability\", color = \"#56B4E9\", kde = False, element=\"step\")#, hue = 0.5) \n",
    "#    plt.ylim(0, 0.3)\n",
    "#    plt.xlim(0, 350)\n",
    "    #plt.show()\n",
    "#    sns.histplot(pd.Series(networkdf_f[\"degree\"]), binwidth=10, stat= \"probability\", color = \"#F0E442\", kde = False, element=\"step\")#, hue = 0.5)\n",
    "#    plt.ylim(0, 0.3)\n",
    "#    plt.xlim(0, 350)\n",
    "#    plt.show()\n",
    "\n",
    "    colors = ['#E69F00', '#56B4E9', '#F0E442']\n",
    "    # Set your custom color palette\n",
    "    sns.set_palette(sns.color_palette(colors))\n",
    "\n",
    "    plt.figure(figsize = (7, 5))\n",
    "    plt.grid(color='grey', linestyle='--', linewidth=0.5, alpha = 0.2)\n",
    "\n",
    "    sns.histplot(data_df, \n",
    "                 x = \"degree\",  \n",
    "                 hue=\"gender\", \n",
    "                 multiple=\"dodge\", \n",
    "                 kde = True, \n",
    "                 #stat= \"probability\", \n",
    "                 shrink=.9, \n",
    "                 bins= 15, \n",
    "                 edgecolor=None).set_title(\"Degree distribution by gender\")\n",
    "                 #edgecolors=\"red\")#, hue = 0.5)\n",
    "    plt.xlabel(\"Degree\")\n",
    "    plt.ylabel(\"Counts\")\n",
    "    plt.legend(loc='upper right', labels=['Female', 'Male', 'Unknown'])\n",
    "    #plt.show()\n",
    "    plt.tight_layout()\n",
    "\n",
    "    plt.savefig(\"Degree_distr_gender_collaborator_network.pdf\", \n",
    "                dpi=350, facecolor='w', edgecolor='w', format=\"pdf\",\n",
    "                transparent=True, bbox_inches=None, pad_inches=0.1)\n",
    "\n",
    "who_is_better_connected()"
   ]
  },
  {
   "cell_type": "markdown",
   "metadata": {},
   "source": [
    "### EI index"
   ]
  },
  {
   "cell_type": "code",
   "execution_count": 48,
   "metadata": {},
   "outputs": [
    {
     "name": "stdout",
     "output_type": "stream",
     "text": [
      "EI Index for attribute \"contRepos\":\t 0.971 \n",
      "EI Index for attribute \"numberContRepos\":\t 0.714 \n",
      "EI Index for attribute \"totalContr\":\t 0.974 \n"
     ]
    }
   ],
   "source": [
    "# calculation of the EI index\n",
    "# code adapted from the lecture\n",
    "\n",
    "ei_index = None\n",
    "\n",
    "for i in [\"contRepos\",\"numberContRepos\",\"totalContr\"]:\n",
    "    if len(triads_g.edges) == 0:\n",
    "        print(\"cannot calculate EI-index on a graph with no edges\")\n",
    "\n",
    "    else: \n",
    "        E = len([x for x in triads_g.edges if triads_g.nodes[x[0]][i] != triads_g.nodes[x[1]][i]])\n",
    "        I = len([x for x in triads_g.edges if triads_g.nodes[x[0]][i] == triads_g.nodes[x[1]][i]])\n",
    "        \n",
    "        ei_index =  (E - I) / len(triads_g.edges)\n",
    "\n",
    "    print(\"EI Index for attribute \\\"%s\\\":\\t %1.3f \" % (i,ei_index))\n",
    "    "
   ]
  },
  {
   "cell_type": "code",
   "execution_count": 49,
   "metadata": {},
   "outputs": [
    {
     "name": "stdout",
     "output_type": "stream",
     "text": [
      "EI Index for attribute \"gender\":\t -0.568 \n"
     ]
    }
   ],
   "source": [
    "triads_g_gender = triads_g.copy()\n",
    "nodes_to_remove = []\n",
    "for node in triads_g_gender.nodes(): \n",
    "    if triads_g_gender.nodes[node][\"gender\"] == \"unkown\": \n",
    "        nodes_to_remove.append(node)\n",
    "    else: \n",
    "        pass\n",
    "        \n",
    "triads_g_gender.remove_nodes_from(nodes_to_remove)      \n",
    "\n",
    "\n",
    "for i in [\"gender\"]:\n",
    "    if len(triads_g_gender.edges) == 0:\n",
    "        print(\"cannot calculate EI-index on a graph with no edges\")\n",
    "\n",
    "    else: \n",
    "        E = len([x for x in triads_g_gender.edges if triads_g_gender.nodes[x[0]][i] != triads_g_gender.nodes[x[1]][i]])\n",
    "        I = len([x for x in triads_g_gender.edges if triads_g_gender.nodes[x[0]][i] == triads_g_gender.nodes[x[1]][i]])\n",
    "        \n",
    "        ei_index =  (E - I) / len(triads_g_gender.edges)\n",
    "\n",
    "    print(\"EI Index for attribute \\\"%s\\\":\\t %1.3f \" % (i,ei_index))"
   ]
  },
  {
   "cell_type": "markdown",
   "metadata": {},
   "source": [
    "### Assortativity"
   ]
  },
  {
   "cell_type": "markdown",
   "metadata": {},
   "source": [
    "-1 < assortativity coefficient < 1, \n",
    "\n",
    "-1: network is perfectly disassoratative (all links are between groups), \n",
    "\n",
    "\n",
    "1: perfectly assortative (all links are within groups)"
   ]
  },
  {
   "cell_type": "code",
   "execution_count": 50,
   "metadata": {},
   "outputs": [
    {
     "name": "stdout",
     "output_type": "stream",
     "text": [
      "Assortativity by gender: (unfiltered) -0.023\n",
      "The filtered list contains 88 of 88 total nodes\n",
      "Assortativity by gender: (filtered) -0.023\n"
     ]
    }
   ],
   "source": [
    "network = triads_g_gender.copy()\n",
    "\n",
    "attribute = \"gender\"\n",
    "\n",
    "attribute_map = {\n",
    "    \"M\":\"male\",\n",
    "    \"F\":\"female\", \n",
    "    #\"unkown\":\"unknown\"\n",
    "}\n",
    "\n",
    "assort_coeff_1 = nx.attribute_assortativity_coefficient(network,attribute)\n",
    "print(\"Assortativity by {}: (unfiltered) {:.3f}\".format(attribute,assort_coeff_1))\n",
    "\n",
    "nodelist = [node_name for node_name in network.nodes if network.nodes[node_name][attribute] in attribute_map.keys()]\n",
    "print(\"The filtered list contains {} of {} total nodes\".format(len(nodelist),len(network.nodes)))\n",
    "\n",
    "assort_coeff_2 = nx.attribute_assortativity_coefficient(network,attribute,nodelist)\n",
    "print(\"Assortativity by {}: (filtered) {:.3f}\".format(attribute,assort_coeff_2))"
   ]
  },
  {
   "cell_type": "markdown",
   "metadata": {},
   "source": [
    "### Degree based centrality measures"
   ]
  },
  {
   "cell_type": "code",
   "execution_count": 58,
   "metadata": {},
   "outputs": [
    {
     "data": {
      "text/plain": [
       "<AxesSubplot:ylabel='Count'>"
      ]
     },
     "execution_count": 58,
     "metadata": {},
     "output_type": "execute_result"
    },
    {
     "data": {
      "image/png": "[encoded data removed]",
      "text/plain": [
       "<Figure size 432x288 with 1 Axes>"
      ]
     },
     "metadata": {
      "needs_background": "light"
     },
     "output_type": "display_data"
    }
   ],
   "source": [
    "cc = nx.closeness_centrality(triads_g)\n",
    "sns.histplot(pd.Series(cc), bins = 50) # 0: nodes that are isolates"
   ]
  },
  {
   "cell_type": "code",
   "execution_count": 56,
   "metadata": {},
   "outputs": [
    {
     "data": {
      "image/png": "[encoded data removed]",
      "text/plain": [
       "<Figure size 432x288 with 1 Axes>"
      ]
     },
     "metadata": {
      "needs_background": "light"
     },
     "output_type": "display_data"
    }
   ],
   "source": [
    "bc = nx.betweenness_centrality(triads_g)\n",
    "ax = sns.histplot(pd.Series(bc), bins = 50)\n",
    "ax.set_yscale(\"log\") \n",
    "plt.show()"
   ]
  },
  {
   "cell_type": "code",
   "execution_count": 59,
   "metadata": {},
   "outputs": [
    {
     "data": {
      "image/png": "[encoded data removed]",
      "text/plain": [
       "<Figure size 432x288 with 1 Axes>"
      ]
     },
     "metadata": {
      "needs_background": "light"
     },
     "output_type": "display_data"
    }
   ],
   "source": [
    "dg = nx.degree_centrality(triads_g)\n",
    "ax = sns.histplot(pd.Series(dg), bins = 50)\n",
    "#ax.set_yscale(\"log\") \n",
    "plt.show()"
   ]
  },
  {
   "cell_type": "markdown",
   "metadata": {},
   "source": [
    "### Transitivity & Clustering coefficient"
   ]
  },
  {
   "cell_type": "code",
   "execution_count": 60,
   "metadata": {},
   "outputs": [
    {
     "data": {
      "text/plain": [
       "0.47634303491284274"
      ]
     },
     "execution_count": 60,
     "metadata": {},
     "output_type": "execute_result"
    }
   ],
   "source": [
    "nx.transitivity(triads_g)"
   ]
  },
  {
   "cell_type": "code",
   "execution_count": 61,
   "metadata": {},
   "outputs": [
    {
     "data": {
      "text/plain": [
       "0.7028829781350155"
      ]
     },
     "execution_count": 61,
     "metadata": {},
     "output_type": "execute_result"
    }
   ],
   "source": [
    "nx.algorithms.cluster.average_clustering(triads_g)"
   ]
  },
  {
   "cell_type": "code",
   "execution_count": 62,
   "metadata": {},
   "outputs": [
    {
     "data": {
      "text/plain": [
       "0.004512166639905779"
      ]
     },
     "execution_count": 62,
     "metadata": {},
     "output_type": "execute_result"
    }
   ],
   "source": [
    "nx.algorithms.cluster.average_clustering(triads_g, weight = \"weight\")"
   ]
  },
  {
   "cell_type": "code",
   "execution_count": 63,
   "metadata": {},
   "outputs": [
    {
     "data": {
      "text/plain": [
       "0.3964285714285714"
      ]
     },
     "execution_count": 63,
     "metadata": {},
     "output_type": "execute_result"
    }
   ],
   "source": [
    "66.6/(len(triads_g.nodes())-1) # what you would expect if all had the same chance of knowiwng each other"
   ]
  },
  {
   "cell_type": "markdown",
   "metadata": {},
   "source": [
    "# Triadic census"
   ]
  },
  {
   "cell_type": "markdown",
   "metadata": {},
   "source": [
    "triadic_census(G): Determines the triadic census of a directed graph.      \n",
    "random_triad(G): Returns a random triad from a directed graph.     \n",
    "triads_by_type(G): Returns a list of all triads for each triad type in a directed graph.     \n",
    "triad_type(G): Returns the sociological triad type for a triad.     \n",
    "all_triads(G): A generator of all possible triads in G.    \n",
    "all_triplets(G): Returns a generator of all possible sets of 3 nodes in a DiGraph.    "
   ]
  },
  {
   "cell_type": "code",
   "execution_count": 65,
   "metadata": {},
   "outputs": [
    {
     "name": "stdout",
     "output_type": "stream",
     "text": [
      "Name: Contributed_to_same_repo\n",
      "Type: DiGraph\n",
      "Number of nodes: 169\n",
      "Number of edges: 5628\n",
      "Average in degree:  33.3018\n",
      "Average out degree:  33.3018\n"
     ]
    }
   ],
   "source": [
    "print(nx.info(triads_g))"
   ]
  },
  {
   "cell_type": "code",
   "execution_count": 64,
   "metadata": {},
   "outputs": [],
   "source": [
    "triads = nx.triadic_census(triads_g)\n",
    "triads_g_triads_by_type = nx.triads_by_type(triads_g)\n",
    "triads_201 = [triad for triad in triads_g_triads_by_type[\"201\"]]\n",
    "triads_300 = [triad for triad in triads_g_triads_by_type[\"300\"]]\n",
    "triads_102 = [triad for triad in triads_g_triads_by_type[\"102\"]]"
   ]
  },
  {
   "cell_type": "code",
   "execution_count": 66,
   "metadata": {},
   "outputs": [
    {
     "data": {
      "image/png": "[encoded data removed]",
      "text/plain": [
       "<Figure size 432x288 with 1 Axes>"
      ]
     },
     "metadata": {
      "needs_background": "light"
     },
     "output_type": "display_data"
    }
   ],
   "source": [
    "deg_seq = [x[1] for x in triads_g.degree()]\n",
    "ax = sns.histplot(x=deg_seq)\n",
    "#ax.set(xscale=\"log\", yscale=\"log\")\n",
    "plt.show()"
   ]
  },
  {
   "cell_type": "code",
   "execution_count": 67,
   "metadata": {},
   "outputs": [],
   "source": [
    "# this code is adapted from the lecture material\n",
    "def reportOnClustering(g):\n",
    "    # Don't mind the 'Future Warning'\n",
    "    print(nx.info(g))\n",
    "    s1 = pd.Series( {i:j for i,j in g.degree()} ,name=\"Degree\")\n",
    "    s2 = pd.Series( nx.clustering(g, weight = \"weight\") , name=\"Clustering\")\n",
    "    df = pd.concat([s1,s2],axis=1)\n",
    "    print(df.corr())\n",
    "    sns.regplot(x=df[\"Degree\"],y=df[\"Clustering\"],lowess=True) \n",
    "    plt.show()\n",
    "    return"
   ]
  },
  {
   "cell_type": "code",
   "execution_count": 68,
   "metadata": {},
   "outputs": [
    {
     "name": "stdout",
     "output_type": "stream",
     "text": [
      "Name: Contributed_to_same_repo\n",
      "Type: DiGraph\n",
      "Number of nodes: 169\n",
      "Number of edges: 5628\n",
      "Average in degree:  33.3018\n",
      "Average out degree:  33.3018\n",
      "              Degree  Clustering\n",
      "Degree      1.000000   -0.325144\n",
      "Clustering -0.325144    1.000000\n"
     ]
    },
    {
     "data": {
      "image/png": "[encoded data removed]",
      "text/plain": [
       "<Figure size 432x288 with 1 Axes>"
      ]
     },
     "metadata": {
      "needs_background": "light"
     },
     "output_type": "display_data"
    }
   ],
   "source": [
    "reportOnClustering(triads_g)"
   ]
  },
  {
   "cell_type": "markdown",
   "metadata": {},
   "source": [
    "### Modularity"
   ]
  },
  {
   "cell_type": "code",
   "execution_count": 69,
   "metadata": {},
   "outputs": [],
   "source": [
    "#create non-directed graph\n",
    "# As (user1, user2, weight) is symmetric ((user1, user2, weight) = (user2, user1, weight))\n",
    "\n",
    "triads_g_nondi = nx.Graph()\n",
    "\n",
    "for user in users:\n",
    "    triads_g_nondi.add_node(user, \n",
    "                            contRepos =  user_to_attributes[user]['contRepos'], \n",
    "                            numberContRepos = user_to_attributes[user]['numberContRepos'], \n",
    "                            totalContr = user_to_attributes[user]['totalContr'])\n",
    "\n",
    "container = []\n",
    "for edge in edge_to_cum_weight.keys(): \n",
    "    container.append(tuple((edge[0], \n",
    "                       edge[1], \n",
    "                       edge_to_cum_weight[edge])))\n",
    "\n",
    "triads_g_nondi.add_weighted_edges_from(container)"
   ]
  },
  {
   "cell_type": "code",
   "execution_count": 70,
   "metadata": {},
   "outputs": [
    {
     "name": "stdout",
     "output_type": "stream",
     "text": [
      "Name: \n",
      "Type: Graph\n",
      "Number of nodes: 1091\n",
      "Number of edges: 17535\n",
      "Average degree:  32.1448\n"
     ]
    }
   ],
   "source": [
    "print(nx.info(triads_g_nondi))"
   ]
  },
  {
   "cell_type": "code",
   "execution_count": 71,
   "metadata": {},
   "outputs": [],
   "source": [
    "#filter network down. Keep only user that contributed to at least one repo and made at least one contribution. \n",
    "to_remove_non_di = []\n",
    "for node in triads_g_nondi.nodes(): \n",
    "    if dict(triads_g_nondi.nodes().data())[node]['numberContRepos'] < 2:\n",
    "        to_remove_non_di.append(node)\n",
    "    elif dict(triads_g_nondi.nodes().data())[node]['totalContr'] < 2: \n",
    "        to_remove_non_di.append(node)\n",
    "    else: \n",
    "        pass"
   ]
  },
  {
   "cell_type": "code",
   "execution_count": 72,
   "metadata": {},
   "outputs": [],
   "source": [
    "triads_g_nondi.remove_nodes_from(to_remove_non_di)"
   ]
  },
  {
   "cell_type": "code",
   "execution_count": 73,
   "metadata": {},
   "outputs": [
    {
     "name": "stdout",
     "output_type": "stream",
     "text": [
      "Name: \n",
      "Type: Graph\n",
      "Number of nodes: 169\n",
      "Number of edges: 2814\n",
      "Average degree:  33.3018\n",
      "The modularity by contRepos is: 0.004\n"
     ]
    },
    {
     "data": {
      "image/png": "[encoded data removed]",
      "text/plain": [
       "<Figure size 432x288 with 1 Axes>"
      ]
     },
     "metadata": {},
     "output_type": "display_data"
    },
    {
     "name": "stdout",
     "output_type": "stream",
     "text": [
      "The modularity by numberContRepos is: -0.014\n"
     ]
    },
    {
     "data": {
      "image/png": "[encoded data removed]",
      "text/plain": [
       "<Figure size 432x288 with 1 Axes>"
      ]
     },
     "metadata": {},
     "output_type": "display_data"
    },
    {
     "name": "stdout",
     "output_type": "stream",
     "text": [
      "The modularity by totalContr is: -0.007\n"
     ]
    },
    {
     "data": {
      "image/png": "[encoded data removed]",
      "text/plain": [
       "<Figure size 432x288 with 1 Axes>"
      ]
     },
     "metadata": {},
     "output_type": "display_data"
    },
    {
     "name": "stdout",
     "output_type": "stream",
     "text": [
      "The modularity by gender is: -0.009\n"
     ]
    },
    {
     "data": {
      "image/png": "[encoded data removed]",
      "text/plain": [
       "<Figure size 432x288 with 1 Axes>"
      ]
     },
     "metadata": {},
     "output_type": "display_data"
    },
    {
     "name": "stdout",
     "output_type": "stream",
     "text": [
      "The modularity by Louvain (best) is: 0.262\n"
     ]
    },
    {
     "data": {
      "image/png": "[encoded data removed]",
      "text/plain": [
       "<Figure size 432x288 with 1 Axes>"
      ]
     },
     "metadata": {},
     "output_type": "display_data"
    }
   ],
   "source": [
    "#code from the lecture\n",
    "\n",
    "attr_list = [\"contRepos\",\"numberContRepos\",\"totalContr\", \"gender\"]\n",
    "\n",
    "triads_g_nondi_clean = clean_graph(triads_g_nondi,attribute_list=attr_list)\n",
    "\n",
    "print(nx.info(triads_g_nondi_clean))\n",
    "\n",
    "pos = nx.spring_layout(triads_g_nondi_clean) # let's have one single position value for all of the graphs we are comparing.\n",
    "\n",
    "for i in attr_list:\n",
    "    partition = partition_from_attr(triads_g_nondi_clean,i)\n",
    "    print(\"The modularity by {} is: {:.3f}\".format(i, community.modularity(partition,triads_g_nondi_clean)))\n",
    "    draw_partition(triads_g_nondi_clean,partition_from_attr(triads_g_nondi_clean,i),pos)\n",
    "\n",
    "# Use the Louvain method for community detection\n",
    "partition = community.best_partition(triads_g_nondi_clean)\n",
    "print(\"The modularity by Louvain (best) is: {:.3f}\".format( community.modularity(partition,triads_g_nondi_clean)))\n",
    "draw_partition(triads_g_nondi_clean,partition,pos)"
   ]
  },
  {
   "cell_type": "markdown",
   "metadata": {},
   "source": [
    "# Create randomly rewired network"
   ]
  },
  {
   "cell_type": "code",
   "execution_count": 74,
   "metadata": {},
   "outputs": [],
   "source": [
    "sequence = [deg[1] for deg in triads_g_nondi.degree()]"
   ]
  },
  {
   "cell_type": "code",
   "execution_count": 77,
   "metadata": {},
   "outputs": [
    {
     "name": "stdout",
     "output_type": "stream",
     "text": [
      "Name: \n",
      "Type: MultiGraph\n",
      "Number of nodes: 169\n",
      "Number of edges: 2814\n",
      "Average degree:  33.3018\n",
      "Name: \n",
      "Type: MultiGraph\n",
      "Number of nodes: 169\n",
      "Number of edges: 2782\n",
      "Average degree:  32.9231\n",
      "Name: \n",
      "Type: DiGraph\n",
      "Number of nodes: 169\n",
      "Number of edges: 4626\n",
      "Average in degree:  27.3728\n",
      "Average out degree:  27.3728\n",
      "\n",
      "Orginal graph:\n",
      "Name: Contributed_to_same_repo\n",
      "Type: DiGraph\n",
      "Number of nodes: 169\n",
      "Number of edges: 5628\n",
      "Average in degree:  33.3018\n",
      "Average out degree:  33.3018\n"
     ]
    }
   ],
   "source": [
    "random_g = nx.configuration_model(sequence)\n",
    "print(nx.info(random_g))\n",
    "random_g.remove_edges_from(nx.selfloop_edges(random_g))\n",
    "print(nx.info(random_g))\n",
    "random_g = nx.DiGraph(random_g)\n",
    "print(nx.info(random_g))\n",
    "print(\"\\nOrginal graph:\")\n",
    "print(nx.info(triads_g))"
   ]
  },
  {
   "cell_type": "code",
   "execution_count": 78,
   "metadata": {},
   "outputs": [
    {
     "name": "stdout",
     "output_type": "stream",
     "text": [
      "Name: \n",
      "Type: DiGraph\n",
      "Number of nodes: 169\n",
      "Number of edges: 4626\n",
      "Average in degree:  27.3728\n",
      "Average out degree:  27.3728\n",
      "              Degree  Clustering\n",
      "Degree      1.000000   -0.157179\n",
      "Clustering -0.157179    1.000000\n"
     ]
    },
    {
     "data": {
      "image/png": "[encoded data removed]",
      "text/plain": [
       "<Figure size 432x288 with 1 Axes>"
      ]
     },
     "metadata": {
      "needs_background": "light"
     },
     "output_type": "display_data"
    }
   ],
   "source": [
    "reportOnClustering(random_g)"
   ]
  },
  {
   "cell_type": "code",
   "execution_count": 79,
   "metadata": {},
   "outputs": [],
   "source": [
    "rand_triads = nx.triadic_census(random_g)\n",
    "rand_triads_g_triads_by_type = nx.triads_by_type(random_g)\n",
    "rand_triads_201 = [triad for triad in rand_triads_g_triads_by_type[\"201\"]]"
   ]
  },
  {
   "cell_type": "code",
   "execution_count": 82,
   "metadata": {},
   "outputs": [],
   "source": [
    "edge_distr_triads_g = [triads_g.edges[edge][\"weight\"] for edge in triads_g.edges()]"
   ]
  },
  {
   "cell_type": "code",
   "execution_count": 83,
   "metadata": {},
   "outputs": [
    {
     "data": {
      "image/png": "[encoded data removed]",
      "text/plain": [
       "<Figure size 432x288 with 1 Axes>"
      ]
     },
     "metadata": {
      "needs_background": "light"
     },
     "output_type": "display_data"
    }
   ],
   "source": [
    "# plot distribution of weights\n",
    "plt.hist(edge_distr_triads_g, bins = 50)\n",
    "plt.yscale('log')\n",
    "#plt.xlim(-0.5, 17)\n",
    "#plt.xlim(5, 15)"
   ]
  },
  {
   "cell_type": "code",
   "execution_count": 84,
   "metadata": {},
   "outputs": [],
   "source": [
    "# randomly assign weights to the edges of the random graph\n",
    "# list(edge_to_cum_weight.values())\n",
    "\n",
    "random.sample(list(edge_to_cum_weight.values()), 1)\n",
    "random.sample(edge_distr_triads_g, 1)\n",
    "\n",
    "for edge in random_g.edges():\n",
    "    #random_g[edge[0]][edge[1]][\"weight\"]  = random.sample(list(edge_to_cum_weight.values()), 1)\n",
    "    random_g[edge[0]][edge[1]][\"weight\"]  = random.sample(edge_distr_triads_g, 1)"
   ]
  },
  {
   "cell_type": "code",
   "execution_count": 85,
   "metadata": {},
   "outputs": [],
   "source": [
    "edge_distr_random_g = [random_g.edges[edge][\"weight\"][0] for edge in random_g.edges()]"
   ]
  },
  {
   "cell_type": "code",
   "execution_count": 86,
   "metadata": {},
   "outputs": [
    {
     "data": {
      "image/png": "[encoded data removed]",
      "text/plain": [
       "<Figure size 432x288 with 1 Axes>"
      ]
     },
     "metadata": {
      "needs_background": "light"
     },
     "output_type": "display_data"
    }
   ],
   "source": [
    "plt.hist(edge_distr_random_g, bins = 50)\n",
    "plt.yscale('log')\n",
    "#plt.xlim(-0.5, 2)\n",
    "#plt.xlim(2.5, 10)"
   ]
  },
  {
   "cell_type": "markdown",
   "metadata": {},
   "source": [
    "# Triadic census based on filter criterium "
   ]
  },
  {
   "cell_type": "code",
   "execution_count": 88,
   "metadata": {},
   "outputs": [],
   "source": [
    "random_g_filter = random_g.copy()\n",
    "triads_g_filter = triads_g.copy()"
   ]
  },
  {
   "cell_type": "code",
   "execution_count": 90,
   "metadata": {},
   "outputs": [],
   "source": [
    "# test different thresholds\n",
    "thresh_to_triadic_cens_random = {}\n",
    "thresh_to_triadic_cens_org = {}\n",
    "\n",
    "for threshold in [0, 0.25, 0.5, 1, 1.5, 2, 2.5, 3, 3.5, 4, 4.5, 5, 5.5, 6, 6.5, 7, 7.5, 8, 8.5, 9, 9.5, 10, 11, 12, 13, 14, 15]:\n",
    "    \n",
    "    to_remove_org = []\n",
    "    to_remove_rand = []\n",
    "\n",
    "    for edge in triads_g_filter.edges(): \n",
    "        if triads_g_filter.edges[edge][\"weight\"] <= threshold:\n",
    "            to_remove_org.append(edge)\n",
    "        else: \n",
    "            pass\n",
    "\n",
    "    for edge in random_g_filter.edges(): \n",
    "        if random_g_filter.edges[edge][\"weight\"][0] <= threshold:\n",
    "            to_remove_rand.append(edge)\n",
    "        else: \n",
    "            pass\n",
    "\n",
    "    random_g_filter.remove_edges_from(to_remove_rand)\n",
    "    triads_g_filter.remove_edges_from(to_remove_org)\n",
    "\n",
    "    rand_triads_filter = nx.triadic_census(random_g_filter)\n",
    "    org_triads_filter = nx.triadic_census(triads_g_filter)\n",
    "\n",
    "    thresh_to_triadic_cens_random[threshold] = rand_triads_filter\n",
    "    thresh_to_triadic_cens_org[threshold] = org_triads_filter"
   ]
  },
  {
   "cell_type": "code",
   "execution_count": 91,
   "metadata": {},
   "outputs": [],
   "source": [
    "triad_cens_rand = pd.DataFrame.from_dict(thresh_to_triadic_cens_random).T.reset_index().rename(columns = {\"index\" : \"threshold\"})\n",
    "triad_cens_org = pd.DataFrame.from_dict(thresh_to_triadic_cens_org).T.reset_index().rename(columns = {\"index\" : \"threshold\"})"
   ]
  },
  {
   "cell_type": "code",
   "execution_count": 96,
   "metadata": {},
   "outputs": [
    {
     "data": {
      "image/png": "[encoded data removed]",
      "text/plain": [
       "<Figure size 432x288 with 1 Axes>"
      ]
     },
     "metadata": {
      "needs_background": "light"
     },
     "output_type": "display_data"
    }
   ],
   "source": [
    "# generate plot for the network of collaboration\n",
    "\n",
    "ax1 = triad_cens_org.plot(x = \"threshold\", \n",
    "                    y = ['003'], color=colors[0]) \n",
    "triad_cens_org.plot(x = \"threshold\", \n",
    "                    y = ['102'], ax = ax1, color=colors[1]) \n",
    "triad_cens_org.plot(x = \"threshold\", \n",
    "                    y = ['201'], ax = ax1, color=colors[4]) \n",
    "triad_cens_org.plot(x = \"threshold\", \n",
    "                    y = ['300'], ax = ax1, color=colors[3]) \n",
    "                    #title = \"Triadic censuses for different minimal edge weights\")\n",
    "plt.yscale('log')\n",
    "plt.xlabel(\"Minimal edge weight\")\n",
    "plt.ylabel(\"Count of triads\")\n",
    "plt.grid(color='grey', linestyle='--', linewidth=0.5, alpha = 0.2)\n",
    "plt.savefig(\"Triadic censuses_org.pdf\", dpi=350, facecolor='w', edgecolor='w', format=\"pdf\",\n",
    "        transparent=True, bbox_inches=None, pad_inches=0.1)"
   ]
  },
  {
   "cell_type": "code",
   "execution_count": 98,
   "metadata": {},
   "outputs": [
    {
     "data": {
      "text/plain": [
       "<Figure size 360x1800 with 0 Axes>"
      ]
     },
     "metadata": {},
     "output_type": "display_data"
    },
    {
     "data": {
      "image/png": "[encoded data removed]",
      "text/plain": [
       "<Figure size 432x288 with 1 Axes>"
      ]
     },
     "metadata": {
      "needs_background": "light"
     },
     "output_type": "display_data"
    }
   ],
   "source": [
    "# generate plot for the random graph\n",
    "\n",
    "plt.figure(figsize = (5, 25))\n",
    "\n",
    "ax1 = triad_cens_rand.plot(x = \"threshold\", \n",
    "                    y = ['003'], color=colors[0]) \n",
    "triad_cens_rand.plot(x = \"threshold\", \n",
    "                    y = ['102'], ax = ax1, color=colors[1]) \n",
    "triad_cens_rand.plot(x = \"threshold\", \n",
    "                    y = ['201'], ax = ax1, color=colors[4]) \n",
    "triad_cens_rand.plot(x = \"threshold\", \n",
    "                    y = ['300'], ax = ax1, color=colors[3]) \n",
    "\n",
    "plt.yscale('log')\n",
    "plt.xlabel(\"Minimal edge weight\")\n",
    "plt.ylabel(\"Count of triads\")\n",
    "plt.grid(color='grey', linestyle='--', linewidth=0.5, alpha = 0.2)\n",
    "plt.savefig(\"Triadic censuses_random.pdf\", dpi=350, facecolor='w', edgecolor='w', format=\"pdf\",\n",
    "        transparent=True, bbox_inches=None, pad_inches=0.1)"
   ]
  },
  {
   "cell_type": "markdown",
   "metadata": {},
   "source": [
    "##### Generate the same plot but instead of total counts displaying the shares of different triad types"
   ]
  },
  {
   "cell_type": "code",
   "execution_count": 99,
   "metadata": {},
   "outputs": [],
   "source": [
    "triad_cens_org[\"sum\"] = triad_cens_org[['003', '012', '102', '021D', '021U', '021C', '111D',\n",
    "       '111U', '030T', '030C', '201', '120D', '120U', '120C', '210', '300']].sum(axis = 1)\n",
    "triad_cens_rand[\"sum\"] = triad_cens_rand[['003', '012', '102', '021D', '021U', '021C', '111D',\n",
    "       '111U', '030T', '030C', '201', '120D', '120U', '120C', '210', '300']].sum(axis = 1)"
   ]
  },
  {
   "cell_type": "code",
   "execution_count": 100,
   "metadata": {},
   "outputs": [],
   "source": [
    "triad_cens_org[\"share_003\"] = triad_cens_org[\"003\"].map(lambda x : x / 790244 * 100 )\n",
    "triad_cens_org[\"share_102\"] = triad_cens_org[\"102\"].map(lambda x : x / 790244 * 100)\n",
    "triad_cens_org[\"share_201\"] = triad_cens_org[\"201\"].map(lambda x : x / 790244 * 100)\n",
    "triad_cens_org[\"share_300\"] = triad_cens_org[\"300\"].map(lambda x : x / 790244 * 100)\n",
    "\n",
    "triad_cens_rand[\"share_003\"] = triad_cens_rand[\"003\"].map(lambda x : x / 790244 * 100)\n",
    "triad_cens_rand[\"share_102\"] = triad_cens_rand[\"102\"].map(lambda x : x / 790244 * 100)\n",
    "triad_cens_rand[\"share_201\"] = triad_cens_rand[\"201\"].map(lambda x : x / 790244 * 100)\n",
    "triad_cens_rand[\"share_300\"] = triad_cens_rand[\"300\"].map(lambda x : x / 790244 * 100)"
   ]
  },
  {
   "cell_type": "code",
   "execution_count": 101,
   "metadata": {},
   "outputs": [
    {
     "data": {
      "text/html": [
       "<div>\n",
       "<style scoped>\n",
       "    .dataframe tbody tr th:only-of-type {\n",
       "        vertical-align: middle;\n",
       "    }\n",
       "\n",
       "    .dataframe tbody tr th {\n",
       "        vertical-align: top;\n",
       "    }\n",
       "\n",
       "    .dataframe thead th {\n",
       "        text-align: right;\n",
       "    }\n",
       "</style>\n",
       "<table border=\"1\" class=\"dataframe\">\n",
       "  <thead>\n",
       "    <tr style=\"text-align: right;\">\n",
       "      <th></th>\n",
       "      <th>threshold</th>\n",
       "      <th>003</th>\n",
       "      <th>012</th>\n",
       "      <th>102</th>\n",
       "      <th>021D</th>\n",
       "      <th>021U</th>\n",
       "      <th>021C</th>\n",
       "      <th>111D</th>\n",
       "      <th>111U</th>\n",
       "      <th>030T</th>\n",
       "      <th>...</th>\n",
       "      <th>120D</th>\n",
       "      <th>120U</th>\n",
       "      <th>120C</th>\n",
       "      <th>210</th>\n",
       "      <th>300</th>\n",
       "      <th>sum</th>\n",
       "      <th>share_003</th>\n",
       "      <th>share_102</th>\n",
       "      <th>share_201</th>\n",
       "      <th>share_300</th>\n",
       "    </tr>\n",
       "  </thead>\n",
       "  <tbody>\n",
       "    <tr>\n",
       "      <th>0</th>\n",
       "      <td>0.00</td>\n",
       "      <td>479166</td>\n",
       "      <td>0</td>\n",
       "      <td>243210</td>\n",
       "      <td>0</td>\n",
       "      <td>0</td>\n",
       "      <td>0</td>\n",
       "      <td>0</td>\n",
       "      <td>0</td>\n",
       "      <td>0</td>\n",
       "      <td>...</td>\n",
       "      <td>0</td>\n",
       "      <td>0</td>\n",
       "      <td>0</td>\n",
       "      <td>0</td>\n",
       "      <td>7325</td>\n",
       "      <td>790244</td>\n",
       "      <td>60.635196</td>\n",
       "      <td>30.776570</td>\n",
       "      <td>7.661305</td>\n",
       "      <td>0.926929</td>\n",
       "    </tr>\n",
       "    <tr>\n",
       "      <th>1</th>\n",
       "      <td>0.25</td>\n",
       "      <td>692476</td>\n",
       "      <td>84512</td>\n",
       "      <td>7635</td>\n",
       "      <td>1162</td>\n",
       "      <td>1154</td>\n",
       "      <td>2329</td>\n",
       "      <td>389</td>\n",
       "      <td>410</td>\n",
       "      <td>92</td>\n",
       "      <td>...</td>\n",
       "      <td>5</td>\n",
       "      <td>7</td>\n",
       "      <td>11</td>\n",
       "      <td>4</td>\n",
       "      <td>0</td>\n",
       "      <td>790244</td>\n",
       "      <td>87.628125</td>\n",
       "      <td>0.966157</td>\n",
       "      <td>0.003290</td>\n",
       "      <td>0.000000</td>\n",
       "    </tr>\n",
       "    <tr>\n",
       "      <th>2</th>\n",
       "      <td>0.50</td>\n",
       "      <td>730092</td>\n",
       "      <td>54920</td>\n",
       "      <td>3123</td>\n",
       "      <td>424</td>\n",
       "      <td>495</td>\n",
       "      <td>949</td>\n",
       "      <td>100</td>\n",
       "      <td>109</td>\n",
       "      <td>22</td>\n",
       "      <td>...</td>\n",
       "      <td>0</td>\n",
       "      <td>2</td>\n",
       "      <td>2</td>\n",
       "      <td>0</td>\n",
       "      <td>0</td>\n",
       "      <td>790244</td>\n",
       "      <td>92.388174</td>\n",
       "      <td>0.395194</td>\n",
       "      <td>0.000253</td>\n",
       "      <td>0.000000</td>\n",
       "    </tr>\n",
       "    <tr>\n",
       "      <th>3</th>\n",
       "      <td>1.00</td>\n",
       "      <td>760711</td>\n",
       "      <td>28358</td>\n",
       "      <td>648</td>\n",
       "      <td>123</td>\n",
       "      <td>144</td>\n",
       "      <td>240</td>\n",
       "      <td>11</td>\n",
       "      <td>9</td>\n",
       "      <td>0</td>\n",
       "      <td>...</td>\n",
       "      <td>0</td>\n",
       "      <td>0</td>\n",
       "      <td>0</td>\n",
       "      <td>0</td>\n",
       "      <td>0</td>\n",
       "      <td>790244</td>\n",
       "      <td>96.262800</td>\n",
       "      <td>0.082000</td>\n",
       "      <td>0.000000</td>\n",
       "      <td>0.000000</td>\n",
       "    </tr>\n",
       "    <tr>\n",
       "      <th>4</th>\n",
       "      <td>1.50</td>\n",
       "      <td>777142</td>\n",
       "      <td>13011</td>\n",
       "      <td>0</td>\n",
       "      <td>26</td>\n",
       "      <td>20</td>\n",
       "      <td>45</td>\n",
       "      <td>0</td>\n",
       "      <td>0</td>\n",
       "      <td>0</td>\n",
       "      <td>...</td>\n",
       "      <td>0</td>\n",
       "      <td>0</td>\n",
       "      <td>0</td>\n",
       "      <td>0</td>\n",
       "      <td>0</td>\n",
       "      <td>790244</td>\n",
       "      <td>98.342031</td>\n",
       "      <td>0.000000</td>\n",
       "      <td>0.000000</td>\n",
       "      <td>0.000000</td>\n",
       "    </tr>\n",
       "  </tbody>\n",
       "</table>\n",
       "<p>5 rows × 22 columns</p>\n",
       "</div>"
      ],
      "text/plain": [
       "   threshold     003    012     102  021D  021U  021C  111D  111U  030T  ...  \\\n",
       "0       0.00  479166      0  243210     0     0     0     0     0     0  ...   \n",
       "1       0.25  692476  84512    7635  1162  1154  2329   389   410    92  ...   \n",
       "2       0.50  730092  54920    3123   424   495   949   100   109    22  ...   \n",
       "3       1.00  760711  28358     648   123   144   240    11     9     0  ...   \n",
       "4       1.50  777142  13011       0    26    20    45     0     0     0  ...   \n",
       "\n",
       "   120D  120U  120C  210   300     sum  share_003  share_102  share_201  \\\n",
       "0     0     0     0    0  7325  790244  60.635196  30.776570   7.661305   \n",
       "1     5     7    11    4     0  790244  87.628125   0.966157   0.003290   \n",
       "2     0     2     2    0     0  790244  92.388174   0.395194   0.000253   \n",
       "3     0     0     0    0     0  790244  96.262800   0.082000   0.000000   \n",
       "4     0     0     0    0     0  790244  98.342031   0.000000   0.000000   \n",
       "\n",
       "   share_300  \n",
       "0   0.926929  \n",
       "1   0.000000  \n",
       "2   0.000000  \n",
       "3   0.000000  \n",
       "4   0.000000  \n",
       "\n",
       "[5 rows x 22 columns]"
      ]
     },
     "execution_count": 101,
     "metadata": {},
     "output_type": "execute_result"
    }
   ],
   "source": [
    "triad_cens_rand.head()"
   ]
  },
  {
   "cell_type": "code",
   "execution_count": 102,
   "metadata": {},
   "outputs": [
    {
     "data": {
      "image/png": "[encoded data removed]",
      "text/plain": [
       "<Figure size 432x288 with 1 Axes>"
      ]
     },
     "metadata": {
      "needs_background": "light"
     },
     "output_type": "display_data"
    }
   ],
   "source": [
    "#triad_cens_org.plot(x = \"threshold\", y = ['share_003', 'share_102', 'share_201', 'share_300']), \n",
    "                    #title = \"Triadic censuses for different minimal edge weights\")\n",
    "\n",
    "ax1 = triad_cens_org.plot(x = \"threshold\", \n",
    "                    y = ['share_003'], color='#E69F00') \n",
    "triad_cens_org.plot(x = \"threshold\", \n",
    "                    y = ['share_102'], ax = ax1, color='#56B4E9') \n",
    "triad_cens_org.plot(x = \"threshold\", \n",
    "                    y = ['share_201'], ax = ax1, color='#7DCEA0') \n",
    "triad_cens_org.plot(x = \"threshold\", \n",
    "                    y = ['share_300'], ax = ax1, color='#F1948A') \n",
    "    \n",
    "plt.legend(labels = ['003', '102', '201', '300'])\n",
    "plt.yscale('log')\n",
    "plt.xlabel(\"Minimal edge weight\")\n",
    "plt.ylabel(\"Share of triad type [%]\")\n",
    "plt.grid(color='grey', linestyle='--', linewidth=0.5, alpha = 0.2)\n",
    "plt.savefig(\"Share_Triadic_censuses_org_new.pdf\", dpi=350, facecolor='w', edgecolor='w', format=\"pdf\", \n",
    "            transparent=True, bbox_inches=None, pad_inches=0.1)"
   ]
  },
  {
   "cell_type": "code",
   "execution_count": 103,
   "metadata": {},
   "outputs": [
    {
     "data": {
      "image/png": "[encoded data removed]",
      "text/plain": [
       "<Figure size 432x288 with 1 Axes>"
      ]
     },
     "metadata": {
      "needs_background": "light"
     },
     "output_type": "display_data"
    }
   ],
   "source": [
    "#triad_cens_rand.plot(x = \"threshold\", \n",
    "                    #y = ['share_003', 'share_102', 'share_201', 'share_300']), \n",
    "                    #title = \"Triadic censuses for different minimal edge weights\")\n",
    "    \n",
    "ax1 = triad_cens_rand.plot(x = \"threshold\", \n",
    "                    y = ['share_003'], color='#E69F00') \n",
    "triad_cens_rand.plot(x = \"threshold\", \n",
    "                    y = ['share_102'], ax = ax1, color='#56B4E9') \n",
    "triad_cens_rand.plot(x = \"threshold\", \n",
    "                    y = ['share_201'], ax = ax1, color='#7DCEA0') \n",
    "triad_cens_rand.plot(x = \"threshold\", \n",
    "                    y = ['share_300'], ax = ax1, color='#F1948A') \n",
    "    \n",
    "plt.legend(labels = ['003', '102', '201', '300'])\n",
    "plt.yscale('log')\n",
    "plt.xlabel(\"Minimal edge weight\")\n",
    "plt.ylabel(\"Share of triad type [%]\")\n",
    "plt.grid(color='grey', linestyle='--', linewidth=0.5, alpha = 0.2)\n",
    "plt.savefig(\"Share_Triadic_censuses_rand_new.pdf\", dpi=350, facecolor='w', edgecolor='w', format=\"pdf\",\n",
    "        transparent=True, bbox_inches=None, pad_inches=0.1)"
   ]
  },
  {
   "cell_type": "markdown",
   "metadata": {},
   "source": [
    "# Triads present in a repo"
   ]
  },
  {
   "cell_type": "code",
   "execution_count": 104,
   "metadata": {},
   "outputs": [
    {
     "name": "stdout",
     "output_type": "stream",
     "text": [
      "Name: Contributed_to_same_repo\n",
      "Type: DiGraph\n",
      "Number of nodes: 1091\n",
      "Number of edges: 35070\n",
      "Average in degree:  32.1448\n",
      "Average out degree:  32.1448\n"
     ]
    }
   ],
   "source": [
    "forbid_repo_g = fobid_tr_per_repo_g.copy() #triads_g\n",
    "print(nx.info(forbid_repo_g))"
   ]
  },
  {
   "cell_type": "code",
   "execution_count": 106,
   "metadata": {},
   "outputs": [],
   "source": [
    "# create function that filters network based on threshold\n",
    "\n",
    "weight_threshold = 0\n",
    "total_contributions = 2\n",
    "number_of_repos_contr_to = 2\n",
    "\n",
    "def filter_network_based_on_threshold(full_network, weight_threshold, total_contributions, number_of_repos_contr_to):\n",
    "\n",
    "    network = full_network.copy()\n",
    "    #print(nx.info(network))\n",
    "    \n",
    "    edges_to_be_removed = []\n",
    "\n",
    "    for edge in network.edges(): \n",
    "        if network.edges[edge][\"weight\"] <= weight_threshold:\n",
    "            edges_to_be_removed.append(edge)\n",
    "        else: \n",
    "            pass\n",
    "\n",
    "    #filter network down. Keep only user that contributed to at least one repo and made at least one contribution. \n",
    "    nodes_to_be_removed = []\n",
    "    for node in network.nodes(): \n",
    "        if dict(network.nodes().data())[node]['numberContRepos'] < total_contributions:\n",
    "            nodes_to_be_removed.append(node)\n",
    "        elif dict(network.nodes().data())[node]['totalContr'] < number_of_repos_contr_to: \n",
    "            nodes_to_be_removed.append(node)\n",
    "        else: \n",
    "            pass\n",
    "\n",
    "\n",
    "    network.remove_edges_from(edges_to_be_removed)\n",
    "    network.remove_nodes_from(nodes_to_be_removed)\n",
    "    #print(\"\\n\\nAfter filtering the network down\\n\", nx.info(network))\n",
    "    \n",
    "    return network"
   ]
  },
  {
   "cell_type": "code",
   "execution_count": 108,
   "metadata": {},
   "outputs": [],
   "source": [
    "# write function that returns triads\n",
    "\n",
    "def calculate_triads(network):   \n",
    "    triads_g_triads_by_type = nx.triads_by_type(network)\n",
    "    triads_201 = [triad for triad in triads_g_triads_by_type[\"201\"]]\n",
    "    triads_300 = [triad for triad in triads_g_triads_by_type[\"300\"]]\n",
    "    triads_102 = [triad for triad in triads_g_triads_by_type[\"102\"]]\n",
    "    \n",
    "    return triads_201, triads_300, triads_102"
   ]
  },
  {
   "cell_type": "code",
   "execution_count": 109,
   "metadata": {},
   "outputs": [],
   "source": [
    "filtered_n = filter_network_based_on_threshold(forbid_repo_g, 0.1, 1, 2)"
   ]
  },
  {
   "cell_type": "code",
   "execution_count": 110,
   "metadata": {},
   "outputs": [],
   "source": [
    "# get reops\n",
    "\n",
    "repos = list(contributor_to_repo_dict.keys())"
   ]
  },
  {
   "cell_type": "code",
   "execution_count": 112,
   "metadata": {},
   "outputs": [],
   "source": [
    "# calculcate for different thresholds the number of present triads per repo\n",
    "\n",
    "weight_to_repo_to_triads = {}\n",
    "\n",
    "forbid_repo_g = fobid_tr_per_repo_g.copy()\n",
    "\n",
    "total_contributions = 2\n",
    "number_of_repos_contr_to = 2\n",
    "\n",
    "for weight_threshold in [0, 0.1, 0.2, 0.3, 0.4, 0.5, 0.6, 0.7, 0.8, 0.9, 1, 1.25, 1.5, 1.75, 2, 2.5, 3, 3.5, 4, 4.5, 5, 5.5, 6, 6.5, 7, 10]: #[0, 0.1, 0.2, 0.3, 0.4, 0.5, 0.6, 0.7, 0.8, 0.9, 1, 1.5, 2, 2.5, 3, 3.5, 4, 4.5, 5, 5.5, 6, 6.5, 7, 10]: #[0, 0.2, 0.4, 0.6, 0.8, 1, 2, 3, 4, 6, 10]\n",
    "    \n",
    "    forbid_repo_g = fobid_tr_per_repo_g.copy()\n",
    "    \n",
    "    #print(weight_threshold)\n",
    "    \n",
    "    filtered_n = filter_network_based_on_threshold(forbid_repo_g, weight_threshold, total_contributions, number_of_repos_contr_to)\n",
    "    triads_201, triads_300, triads_102 = calculate_triads(filtered_n)\n",
    "\n",
    "    repo_to_triad = {}\n",
    "\n",
    "    for repo in repos:\n",
    "        \n",
    "        #print(repo)\n",
    "        \n",
    "        counter_dic = {}\n",
    "        repo_perm = [list(perm) for perm in itertools.permutations(list(contributor_to_repo_dict[repo].keys()), 2)]\n",
    "        counter_201 = 0\n",
    "        counter_102 = 0\n",
    "        counter_300 = 0\n",
    "        for triad in triads_201: \n",
    "            nested_list = [list(edge) for edge in triad.edges()]\n",
    "            user_in_triad = list(set([item for sublist in nested_list for item in sublist]))\n",
    "            edges_perm = [list(perm) for perm in itertools.permutations(user_in_triad, 2)]\n",
    "\n",
    "            value_match = len(edges_perm)\n",
    "            count = 0\n",
    "            for combi in edges_perm: \n",
    "                if combi in repo_perm: \n",
    "                    count += 1\n",
    "\n",
    "            if count == value_match: \n",
    "                counter_201 += 1\n",
    "\n",
    "            counter_dic[\"counter_201\"] = counter_201 \n",
    "\n",
    "        for triad in triads_102: \n",
    "            nested_list = [list(edge) for edge in triad.edges()]\n",
    "            user_in_triad = list(set([item for sublist in nested_list for item in sublist]))\n",
    "            edges_perm = [list(perm) for perm in itertools.permutations(user_in_triad, 2)]\n",
    "\n",
    "            value_match = len(edges_perm)\n",
    "            count = 0\n",
    "            for combi in edges_perm: \n",
    "                if combi in repo_perm: \n",
    "                    count += 1\n",
    "\n",
    "            if count == value_match: \n",
    "                counter_102 += 1\n",
    "\n",
    "            counter_dic[\"counter_102\"] = counter_102 \n",
    "\n",
    "        for triad in triads_300: \n",
    "            nested_list = [list(edge) for edge in triad.edges()]\n",
    "            user_in_triad = list(set([item for sublist in nested_list for item in sublist]))\n",
    "            edges_perm = [list(perm) for perm in itertools.permutations(user_in_triad, 2)]\n",
    "\n",
    "            value_match = len(edges_perm)\n",
    "            count = 0\n",
    "            for combi in edges_perm: \n",
    "                if combi in repo_perm: \n",
    "                    count += 1\n",
    "\n",
    "            if count == value_match: \n",
    "                counter_300 += 1\n",
    "\n",
    "            counter_dic[\"counter_300\"] = counter_300 \n",
    "\n",
    "\n",
    "        repo_to_triad[repo] = counter_dic\n",
    "    \n",
    "    weight_to_repo_to_triads[str(weight_threshold)] = repo_to_triad"
   ]
  },
  {
   "cell_type": "code",
   "execution_count": 113,
   "metadata": {},
   "outputs": [],
   "source": [
    "# save data to file\n",
    "\n",
    "data_00 = pd.DataFrame.from_dict(weight_to_repo_to_triads[\"0\"]).T.reset_index().rename(columns = {\"index\":\"repo\"})\n",
    "data_05 = pd.DataFrame.from_dict(weight_to_repo_to_triads[\"0.5\"]).T.reset_index().rename(columns = {\"index\":\"repo\"})\n",
    "data_10 = pd.DataFrame.from_dict(weight_to_repo_to_triads[\"1\"]).T.reset_index().rename(columns = {\"index\":\"repo\"})\n",
    "data_15 = pd.DataFrame.from_dict(weight_to_repo_to_triads[\"1.5\"]).T.reset_index().rename(columns = {\"index\":\"repo\"})\n",
    "data_20 = pd.DataFrame.from_dict(weight_to_repo_to_triads[\"2\"]).T.reset_index().rename(columns = {\"index\":\"repo\"})\n",
    "data_25 = pd.DataFrame.from_dict(weight_to_repo_to_triads[\"2.5\"]).T.reset_index().rename(columns = {\"index\":\"repo\"})\n",
    "data_30 = pd.DataFrame.from_dict(weight_to_repo_to_triads[\"3\"]).T.reset_index().rename(columns = {\"index\":\"repo\"})\n",
    "data_35 = pd.DataFrame.from_dict(weight_to_repo_to_triads[\"3.5\"]).T.reset_index().rename(columns = {\"index\":\"repo\"})\n",
    "data_40 = pd.DataFrame.from_dict(weight_to_repo_to_triads[\"4\"]).T.reset_index().rename(columns = {\"index\":\"repo\"})"
   ]
  },
  {
   "cell_type": "markdown",
   "metadata": {},
   "source": [
    "### Get stars and pull requests per repo"
   ]
  },
  {
   "cell_type": "code",
   "execution_count": 114,
   "metadata": {},
   "outputs": [],
   "source": [
    "from github import Github\n",
    "\n",
    "ACCESS_TOKEN = 'MY_ACCESS_TOKEN'\n",
    "USER = \"vuejs\"\n",
    "REPO = \"vue-next\"\n",
    "\n",
    "g1 = Github(ACCESS_TOKEN)\n",
    "g2 = Github(USER)\n",
    "\n",
    "user = g2.get_user()"
   ]
  },
  {
   "cell_type": "code",
   "execution_count": 115,
   "metadata": {},
   "outputs": [],
   "source": [
    "# get repos\n",
    "org = g1.get_organization('vuejs')\n",
    "org_repos = org.get_repos()\n",
    "repos = []\n",
    "for repo in org_repos:\n",
    "    repos.append(repo)"
   ]
  },
  {
   "cell_type": "code",
   "execution_count": 116,
   "metadata": {},
   "outputs": [],
   "source": [
    "# store different features of a repo in a dictionary\n",
    "repo_success_dict = {}\n",
    "for i in range(len(repos)): \n",
    "    repo_dict = {}\n",
    "    repo_dict[\"forks\"] = repos[i].forks_count\n",
    "    repo_dict[\"stars\"] = repos[i].stargazers_count\n",
    "    repo_dict[\"commits\"] = repos[i].get_commits().totalCount\n",
    "    repo_dict[\"issues\"] = repos[i].get_issues().totalCount\n",
    "    repo_dict[\"pulls\"] = repos[i].get_pulls().totalCount\n",
    "    repo_dict[\"subscribers\"] = repos[i].subscribers_count\n",
    "    repo_dict[\"contributors\"] = repos[i].get_contributors().totalCount\n",
    "    repo_dict[\"branches\"] = repos[i].get_branches().totalCount \n",
    "    repo_dict[\"comcomment\"] = repos[i].get_comments().totalCount \n",
    "    repo_dict[\"ratio_starsforks\"] = repos[i].stargazers_count / repos[i].forks_count\n",
    "    repo_dict[\"ratio_forksstars\"] = repos[i].forks_count / repos[i].stargazers_count\n",
    "    repo_success_dict[repos[i].name] = repo_dict"
   ]
  },
  {
   "cell_type": "code",
   "execution_count": 117,
   "metadata": {},
   "outputs": [],
   "source": [
    "# convert dictionary to a dataframe\n",
    "repo_sucess_data = pd.DataFrame.from_dict(repo_success_dict).T.reset_index().rename(columns = {\"index\":\"repo\"})"
   ]
  },
  {
   "cell_type": "code",
   "execution_count": 118,
   "metadata": {},
   "outputs": [],
   "source": [
    "# load data\n",
    "with open('Issue_tracker_dic.txt', 'r') as infile:\n",
    "    issue_tracker_dic = json.load(infile)\n",
    "infile.close()"
   ]
  },
  {
   "cell_type": "code",
   "execution_count": 136,
   "metadata": {},
   "outputs": [
    {
     "data": {
      "text/html": [
       "<div>\n",
       "<style scoped>\n",
       "    .dataframe tbody tr th:only-of-type {\n",
       "        vertical-align: middle;\n",
       "    }\n",
       "\n",
       "    .dataframe tbody tr th {\n",
       "        vertical-align: top;\n",
       "    }\n",
       "\n",
       "    .dataframe thead th {\n",
       "        text-align: right;\n",
       "    }\n",
       "</style>\n",
       "<table border=\"1\" class=\"dataframe\">\n",
       "  <thead>\n",
       "    <tr style=\"text-align: right;\">\n",
       "      <th></th>\n",
       "      <th>repo</th>\n",
       "      <th>num_issues</th>\n",
       "      <th>num_comments</th>\n",
       "      <th>ratio_commentsissue</th>\n",
       "    </tr>\n",
       "  </thead>\n",
       "  <tbody>\n",
       "    <tr>\n",
       "      <th>0</th>\n",
       "      <td>vue-router</td>\n",
       "      <td>3340.0</td>\n",
       "      <td>9828.0</td>\n",
       "      <td>2.942515</td>\n",
       "    </tr>\n",
       "    <tr>\n",
       "      <th>1</th>\n",
       "      <td>vue-cli</td>\n",
       "      <td>5704.0</td>\n",
       "      <td>17666.0</td>\n",
       "      <td>3.097125</td>\n",
       "    </tr>\n",
       "    <tr>\n",
       "      <th>2</th>\n",
       "      <td>vue-template-validator</td>\n",
       "      <td>3.0</td>\n",
       "      <td>4.0</td>\n",
       "      <td>1.333333</td>\n",
       "    </tr>\n",
       "    <tr>\n",
       "      <th>3</th>\n",
       "      <td>vue-style-loader</td>\n",
       "      <td>33.0</td>\n",
       "      <td>97.0</td>\n",
       "      <td>2.939394</td>\n",
       "    </tr>\n",
       "    <tr>\n",
       "      <th>4</th>\n",
       "      <td>vuefire</td>\n",
       "      <td>1024.0</td>\n",
       "      <td>1802.0</td>\n",
       "      <td>1.759766</td>\n",
       "    </tr>\n",
       "  </tbody>\n",
       "</table>\n",
       "</div>"
      ],
      "text/plain": [
       "                     repo  num_issues  num_comments  ratio_commentsissue\n",
       "0              vue-router      3340.0        9828.0             2.942515\n",
       "1                 vue-cli      5704.0       17666.0             3.097125\n",
       "2  vue-template-validator         3.0           4.0             1.333333\n",
       "3        vue-style-loader        33.0          97.0             2.939394\n",
       "4                 vuefire      1024.0        1802.0             1.759766"
      ]
     },
     "execution_count": 136,
     "metadata": {},
     "output_type": "execute_result"
    }
   ],
   "source": [
    "# create dataframe with number of issues and comments per repo\n",
    "\n",
    "repo_issue_comments_dic = {}\n",
    "for repo in issue_tracker_dic.keys(): \n",
    "    temp_dic = {}\n",
    "    num_issues = len(issue_tracker_dic[repo].keys())\n",
    "    temp_dic[\"num_issues\"] = num_issues\n",
    "    \n",
    "    comment_counter = 0\n",
    "    for issue in issue_tracker_dic[repo].keys():\n",
    "        comment_counter += len(issue_tracker_dic[repo][issue]['comments'].keys())\n",
    "        \n",
    "    temp_dic[\"num_comments\"] = comment_counter\n",
    "    \n",
    "    if comment_counter == 0 and num_issues == 0: \n",
    "        temp_dic[\"ratio_commentsissue\"] = 0 \n",
    "    else:\n",
    "        temp_dic[\"ratio_commentsissue\"] = comment_counter / num_issues\n",
    "    \n",
    "    repo_issue_comments_dic[repo] = temp_dic\n",
    "    \n",
    "repo_issue_comments_data = pd.DataFrame.from_dict(repo_issue_comments_dic).T.reset_index().rename(columns = {\"index\":\"repo\"})\n",
    "repo_issue_comments_data.head()"
   ]
  },
  {
   "cell_type": "code",
   "execution_count": 121,
   "metadata": {},
   "outputs": [
    {
     "name": "stdout",
     "output_type": "stream",
     "text": [
      "data_00\n",
      "data_05\n",
      "data_10\n",
      "data_15\n",
      "data_20\n",
      "data_25\n",
      "data_30\n",
      "data_35\n",
      "data_40\n"
     ]
    }
   ],
   "source": [
    "# store generated datasets in .csv file\n",
    "names = [\"data_00\", \"data_05\", \"data_10\", \"data_15\", \"data_20\", \"data_25\", \"data_30\", \"data_35\", \"data_40\"]\n",
    "counter = 0\n",
    "\n",
    "for data in [data_00, data_05, data_10, data_15, data_20, data_25, data_30, data_35, data_40]: \n",
    "\n",
    "    result_data_pre = pd.merge(repo_sucess_data, data, on=\"repo\")\n",
    "    result_data = pd.merge(result_data_pre, repo_issue_comments_data, on=\"repo\")\n",
    "    \n",
    "    result_data_min_outliars = result_data[(result_data[\"ratio_forksstars\"] < 2) & (result_data[\"counter_201\"] < 600)]\n",
    "    \n",
    "    print(names[counter])\n",
    "    filename = 'repo_sucess_'+ names[counter] +'.csv'\n",
    "    result_data_min_outliars.to_csv(filename, index = False) \n",
    "    \n",
    "    counter += 1"
   ]
  },
  {
   "cell_type": "markdown",
   "metadata": {},
   "source": [
    "Finding ist robust over threshold decision."
   ]
  },
  {
   "cell_type": "markdown",
   "metadata": {},
   "source": [
    "### Check for outliars"
   ]
  },
  {
   "cell_type": "code",
   "execution_count": 135,
   "metadata": {},
   "outputs": [],
   "source": [
    "result_data_pre = pd.merge(repo_sucess_data, data_10, on=\"repo\")\n",
    "result_data = pd.merge(result_data_pre, repo_issue_comments_data, on=\"repo\")"
   ]
  },
  {
   "cell_type": "code",
   "execution_count": 123,
   "metadata": {},
   "outputs": [
    {
     "data": {
      "text/html": [
       "<div>\n",
       "<style scoped>\n",
       "    .dataframe tbody tr th:only-of-type {\n",
       "        vertical-align: middle;\n",
       "    }\n",
       "\n",
       "    .dataframe tbody tr th {\n",
       "        vertical-align: top;\n",
       "    }\n",
       "\n",
       "    .dataframe thead th {\n",
       "        text-align: right;\n",
       "    }\n",
       "</style>\n",
       "<table border=\"1\" class=\"dataframe\">\n",
       "  <thead>\n",
       "    <tr style=\"text-align: right;\">\n",
       "      <th></th>\n",
       "      <th>forks</th>\n",
       "      <th>stars</th>\n",
       "      <th>commits</th>\n",
       "      <th>issues</th>\n",
       "      <th>pulls</th>\n",
       "      <th>subscribers</th>\n",
       "      <th>contributors</th>\n",
       "      <th>branches</th>\n",
       "      <th>comcomment</th>\n",
       "      <th>ratio_starsforks</th>\n",
       "      <th>ratio_forksstars</th>\n",
       "      <th>counter_201</th>\n",
       "      <th>counter_102</th>\n",
       "      <th>counter_300</th>\n",
       "      <th>num_issues</th>\n",
       "      <th>num_comments</th>\n",
       "      <th>ratio_commentsissue</th>\n",
       "    </tr>\n",
       "  </thead>\n",
       "  <tbody>\n",
       "    <tr>\n",
       "      <th>count</th>\n",
       "      <td>117.000000</td>\n",
       "      <td>117.000000</td>\n",
       "      <td>117.000000</td>\n",
       "      <td>117.000000</td>\n",
       "      <td>117.000000</td>\n",
       "      <td>117.000000</td>\n",
       "      <td>117.000000</td>\n",
       "      <td>117.000000</td>\n",
       "      <td>117.000000</td>\n",
       "      <td>117.000000</td>\n",
       "      <td>117.000000</td>\n",
       "      <td>117.000000</td>\n",
       "      <td>117.000000</td>\n",
       "      <td>117.000000</td>\n",
       "      <td>117.000000</td>\n",
       "      <td>117.000000</td>\n",
       "      <td>117.000000</td>\n",
       "    </tr>\n",
       "    <tr>\n",
       "      <th>mean</th>\n",
       "      <td>739.487179</td>\n",
       "      <td>3981.777778</td>\n",
       "      <td>733.769231</td>\n",
       "      <td>45.786325</td>\n",
       "      <td>10.692308</td>\n",
       "      <td>135.752137</td>\n",
       "      <td>59.000000</td>\n",
       "      <td>6.017094</td>\n",
       "      <td>11.572650</td>\n",
       "      <td>5.585594</td>\n",
       "      <td>0.480667</td>\n",
       "      <td>15.042735</td>\n",
       "      <td>439.692308</td>\n",
       "      <td>0.572650</td>\n",
       "      <td>472.461538</td>\n",
       "      <td>1176.452991</td>\n",
       "      <td>1.754878</td>\n",
       "    </tr>\n",
       "    <tr>\n",
       "      <th>std</th>\n",
       "      <td>2992.306384</td>\n",
       "      <td>18190.192248</td>\n",
       "      <td>2119.436817</td>\n",
       "      <td>105.290062</td>\n",
       "      <td>27.191042</td>\n",
       "      <td>624.921801</td>\n",
       "      <td>109.725127</td>\n",
       "      <td>8.448610</td>\n",
       "      <td>44.765349</td>\n",
       "      <td>5.006754</td>\n",
       "      <td>0.775104</td>\n",
       "      <td>35.573235</td>\n",
       "      <td>560.639297</td>\n",
       "      <td>1.219923</td>\n",
       "      <td>1318.180908</td>\n",
       "      <td>3823.924053</td>\n",
       "      <td>2.107456</td>\n",
       "    </tr>\n",
       "    <tr>\n",
       "      <th>min</th>\n",
       "      <td>1.000000</td>\n",
       "      <td>1.000000</td>\n",
       "      <td>2.000000</td>\n",
       "      <td>0.000000</td>\n",
       "      <td>0.000000</td>\n",
       "      <td>2.000000</td>\n",
       "      <td>1.000000</td>\n",
       "      <td>1.000000</td>\n",
       "      <td>0.000000</td>\n",
       "      <td>0.142857</td>\n",
       "      <td>0.035294</td>\n",
       "      <td>0.000000</td>\n",
       "      <td>0.000000</td>\n",
       "      <td>0.000000</td>\n",
       "      <td>0.000000</td>\n",
       "      <td>0.000000</td>\n",
       "      <td>0.000000</td>\n",
       "    </tr>\n",
       "    <tr>\n",
       "      <th>25%</th>\n",
       "      <td>11.000000</td>\n",
       "      <td>28.000000</td>\n",
       "      <td>24.000000</td>\n",
       "      <td>1.000000</td>\n",
       "      <td>0.000000</td>\n",
       "      <td>6.000000</td>\n",
       "      <td>3.000000</td>\n",
       "      <td>1.000000</td>\n",
       "      <td>0.000000</td>\n",
       "      <td>2.038462</td>\n",
       "      <td>0.139342</td>\n",
       "      <td>0.000000</td>\n",
       "      <td>0.000000</td>\n",
       "      <td>0.000000</td>\n",
       "      <td>3.000000</td>\n",
       "      <td>3.000000</td>\n",
       "      <td>0.615385</td>\n",
       "    </tr>\n",
       "    <tr>\n",
       "      <th>50%</th>\n",
       "      <td>39.000000</td>\n",
       "      <td>177.000000</td>\n",
       "      <td>105.000000</td>\n",
       "      <td>8.000000</td>\n",
       "      <td>2.000000</td>\n",
       "      <td>21.000000</td>\n",
       "      <td>11.000000</td>\n",
       "      <td>3.000000</td>\n",
       "      <td>0.000000</td>\n",
       "      <td>4.052632</td>\n",
       "      <td>0.246753</td>\n",
       "      <td>1.000000</td>\n",
       "      <td>174.000000</td>\n",
       "      <td>0.000000</td>\n",
       "      <td>22.000000</td>\n",
       "      <td>31.000000</td>\n",
       "      <td>1.433333</td>\n",
       "    </tr>\n",
       "    <tr>\n",
       "      <th>75%</th>\n",
       "      <td>196.000000</td>\n",
       "      <td>1241.000000</td>\n",
       "      <td>333.000000</td>\n",
       "      <td>38.000000</td>\n",
       "      <td>8.000000</td>\n",
       "      <td>46.000000</td>\n",
       "      <td>43.000000</td>\n",
       "      <td>8.000000</td>\n",
       "      <td>3.000000</td>\n",
       "      <td>7.176590</td>\n",
       "      <td>0.490566</td>\n",
       "      <td>10.000000</td>\n",
       "      <td>664.000000</td>\n",
       "      <td>1.000000</td>\n",
       "      <td>221.000000</td>\n",
       "      <td>421.000000</td>\n",
       "      <td>2.551282</td>\n",
       "    </tr>\n",
       "    <tr>\n",
       "      <th>max</th>\n",
       "      <td>28810.000000</td>\n",
       "      <td>182426.000000</td>\n",
       "      <td>16206.000000</td>\n",
       "      <td>674.000000</td>\n",
       "      <td>195.000000</td>\n",
       "      <td>6306.000000</td>\n",
       "      <td>452.000000</td>\n",
       "      <td>59.000000</td>\n",
       "      <td>400.000000</td>\n",
       "      <td>28.333333</td>\n",
       "      <td>7.000000</td>\n",
       "      <td>189.000000</td>\n",
       "      <td>2535.000000</td>\n",
       "      <td>6.000000</td>\n",
       "      <td>10828.000000</td>\n",
       "      <td>33389.000000</td>\n",
       "      <td>18.763441</td>\n",
       "    </tr>\n",
       "  </tbody>\n",
       "</table>\n",
       "</div>"
      ],
      "text/plain": [
       "              forks          stars       commits      issues       pulls  \\\n",
       "count    117.000000     117.000000    117.000000  117.000000  117.000000   \n",
       "mean     739.487179    3981.777778    733.769231   45.786325   10.692308   \n",
       "std     2992.306384   18190.192248   2119.436817  105.290062   27.191042   \n",
       "min        1.000000       1.000000      2.000000    0.000000    0.000000   \n",
       "25%       11.000000      28.000000     24.000000    1.000000    0.000000   \n",
       "50%       39.000000     177.000000    105.000000    8.000000    2.000000   \n",
       "75%      196.000000    1241.000000    333.000000   38.000000    8.000000   \n",
       "max    28810.000000  182426.000000  16206.000000  674.000000  195.000000   \n",
       "\n",
       "       subscribers  contributors    branches  comcomment  ratio_starsforks  \\\n",
       "count   117.000000    117.000000  117.000000  117.000000        117.000000   \n",
       "mean    135.752137     59.000000    6.017094   11.572650          5.585594   \n",
       "std     624.921801    109.725127    8.448610   44.765349          5.006754   \n",
       "min       2.000000      1.000000    1.000000    0.000000          0.142857   \n",
       "25%       6.000000      3.000000    1.000000    0.000000          2.038462   \n",
       "50%      21.000000     11.000000    3.000000    0.000000          4.052632   \n",
       "75%      46.000000     43.000000    8.000000    3.000000          7.176590   \n",
       "max    6306.000000    452.000000   59.000000  400.000000         28.333333   \n",
       "\n",
       "       ratio_forksstars  counter_201  counter_102  counter_300    num_issues  \\\n",
       "count        117.000000   117.000000   117.000000   117.000000    117.000000   \n",
       "mean           0.480667    15.042735   439.692308     0.572650    472.461538   \n",
       "std            0.775104    35.573235   560.639297     1.219923   1318.180908   \n",
       "min            0.035294     0.000000     0.000000     0.000000      0.000000   \n",
       "25%            0.139342     0.000000     0.000000     0.000000      3.000000   \n",
       "50%            0.246753     1.000000   174.000000     0.000000     22.000000   \n",
       "75%            0.490566    10.000000   664.000000     1.000000    221.000000   \n",
       "max            7.000000   189.000000  2535.000000     6.000000  10828.000000   \n",
       "\n",
       "       num_comments  ratio_commentsissue  \n",
       "count    117.000000           117.000000  \n",
       "mean    1176.452991             1.754878  \n",
       "std     3823.924053             2.107456  \n",
       "min        0.000000             0.000000  \n",
       "25%        3.000000             0.615385  \n",
       "50%       31.000000             1.433333  \n",
       "75%      421.000000             2.551282  \n",
       "max    33389.000000            18.763441  "
      ]
     },
     "execution_count": 123,
     "metadata": {},
     "output_type": "execute_result"
    }
   ],
   "source": [
    "result_data.describe()"
   ]
  },
  {
   "cell_type": "code",
   "execution_count": 124,
   "metadata": {},
   "outputs": [],
   "source": [
    "result_data_min_outliars = result_data[(result_data[\"ratio_forksstars\"] < 2) & (result_data[\"counter_201\"] < 600)]"
   ]
  },
  {
   "cell_type": "code",
   "execution_count": 125,
   "metadata": {},
   "outputs": [],
   "source": [
    "result_data_min_outliars.to_csv('repo_sucess_data.csv', index = False) "
   ]
  },
  {
   "cell_type": "code",
   "execution_count": 126,
   "metadata": {},
   "outputs": [
    {
     "data": {
      "text/html": [
       "<div>\n",
       "<style scoped>\n",
       "    .dataframe tbody tr th:only-of-type {\n",
       "        vertical-align: middle;\n",
       "    }\n",
       "\n",
       "    .dataframe tbody tr th {\n",
       "        vertical-align: top;\n",
       "    }\n",
       "\n",
       "    .dataframe thead th {\n",
       "        text-align: right;\n",
       "    }\n",
       "</style>\n",
       "<table border=\"1\" class=\"dataframe\">\n",
       "  <thead>\n",
       "    <tr style=\"text-align: right;\">\n",
       "      <th></th>\n",
       "      <th>forks</th>\n",
       "      <th>stars</th>\n",
       "      <th>commits</th>\n",
       "      <th>issues</th>\n",
       "      <th>pulls</th>\n",
       "      <th>subscribers</th>\n",
       "      <th>contributors</th>\n",
       "      <th>branches</th>\n",
       "      <th>comcomment</th>\n",
       "      <th>ratio_starsforks</th>\n",
       "      <th>ratio_forksstars</th>\n",
       "      <th>counter_201</th>\n",
       "      <th>counter_102</th>\n",
       "      <th>counter_300</th>\n",
       "      <th>num_issues</th>\n",
       "      <th>num_comments</th>\n",
       "      <th>ratio_commentsissue</th>\n",
       "    </tr>\n",
       "  </thead>\n",
       "  <tbody>\n",
       "    <tr>\n",
       "      <th>count</th>\n",
       "      <td>112.000000</td>\n",
       "      <td>112.000000</td>\n",
       "      <td>112.000000</td>\n",
       "      <td>112.000000</td>\n",
       "      <td>112.000000</td>\n",
       "      <td>112.000000</td>\n",
       "      <td>112.0000</td>\n",
       "      <td>112.000000</td>\n",
       "      <td>112.000000</td>\n",
       "      <td>112.000000</td>\n",
       "      <td>112.000000</td>\n",
       "      <td>112.000000</td>\n",
       "      <td>112.000000</td>\n",
       "      <td>112.000000</td>\n",
       "      <td>112.000000</td>\n",
       "      <td>112.000000</td>\n",
       "      <td>112.000000</td>\n",
       "    </tr>\n",
       "    <tr>\n",
       "      <th>mean</th>\n",
       "      <td>772.151786</td>\n",
       "      <td>4159.419643</td>\n",
       "      <td>752.187500</td>\n",
       "      <td>47.821429</td>\n",
       "      <td>11.160714</td>\n",
       "      <td>141.633929</td>\n",
       "      <td>60.5625</td>\n",
       "      <td>6.205357</td>\n",
       "      <td>12.089286</td>\n",
       "      <td>5.816711</td>\n",
       "      <td>0.363732</td>\n",
       "      <td>15.232143</td>\n",
       "      <td>446.339286</td>\n",
       "      <td>0.580357</td>\n",
       "      <td>493.500000</td>\n",
       "      <td>1228.937500</td>\n",
       "      <td>1.816851</td>\n",
       "    </tr>\n",
       "    <tr>\n",
       "      <th>std</th>\n",
       "      <td>3054.837570</td>\n",
       "      <td>18575.323956</td>\n",
       "      <td>2162.451464</td>\n",
       "      <td>107.180089</td>\n",
       "      <td>27.703239</td>\n",
       "      <td>638.201739</td>\n",
       "      <td>111.6367</td>\n",
       "      <td>8.586747</td>\n",
       "      <td>45.693565</td>\n",
       "      <td>4.993468</td>\n",
       "      <td>0.363358</td>\n",
       "      <td>36.063753</td>\n",
       "      <td>562.444769</td>\n",
       "      <td>1.234915</td>\n",
       "      <td>1343.659411</td>\n",
       "      <td>3900.772059</td>\n",
       "      <td>2.129679</td>\n",
       "    </tr>\n",
       "    <tr>\n",
       "      <th>min</th>\n",
       "      <td>1.000000</td>\n",
       "      <td>1.000000</td>\n",
       "      <td>2.000000</td>\n",
       "      <td>0.000000</td>\n",
       "      <td>0.000000</td>\n",
       "      <td>2.000000</td>\n",
       "      <td>1.0000</td>\n",
       "      <td>1.000000</td>\n",
       "      <td>0.000000</td>\n",
       "      <td>0.510806</td>\n",
       "      <td>0.035294</td>\n",
       "      <td>0.000000</td>\n",
       "      <td>0.000000</td>\n",
       "      <td>0.000000</td>\n",
       "      <td>0.000000</td>\n",
       "      <td>0.000000</td>\n",
       "      <td>0.000000</td>\n",
       "    </tr>\n",
       "    <tr>\n",
       "      <th>25%</th>\n",
       "      <td>12.750000</td>\n",
       "      <td>31.000000</td>\n",
       "      <td>24.000000</td>\n",
       "      <td>2.000000</td>\n",
       "      <td>0.000000</td>\n",
       "      <td>7.000000</td>\n",
       "      <td>3.7500</td>\n",
       "      <td>1.000000</td>\n",
       "      <td>0.000000</td>\n",
       "      <td>2.245192</td>\n",
       "      <td>0.135091</td>\n",
       "      <td>0.000000</td>\n",
       "      <td>0.000000</td>\n",
       "      <td>0.000000</td>\n",
       "      <td>3.750000</td>\n",
       "      <td>3.000000</td>\n",
       "      <td>0.666667</td>\n",
       "    </tr>\n",
       "    <tr>\n",
       "      <th>50%</th>\n",
       "      <td>45.000000</td>\n",
       "      <td>215.500000</td>\n",
       "      <td>102.500000</td>\n",
       "      <td>8.500000</td>\n",
       "      <td>2.500000</td>\n",
       "      <td>22.500000</td>\n",
       "      <td>11.0000</td>\n",
       "      <td>3.000000</td>\n",
       "      <td>0.000000</td>\n",
       "      <td>4.200000</td>\n",
       "      <td>0.238095</td>\n",
       "      <td>1.000000</td>\n",
       "      <td>174.000000</td>\n",
       "      <td>0.000000</td>\n",
       "      <td>28.500000</td>\n",
       "      <td>39.000000</td>\n",
       "      <td>1.517857</td>\n",
       "    </tr>\n",
       "    <tr>\n",
       "      <th>75%</th>\n",
       "      <td>205.500000</td>\n",
       "      <td>1268.750000</td>\n",
       "      <td>343.000000</td>\n",
       "      <td>38.250000</td>\n",
       "      <td>8.250000</td>\n",
       "      <td>46.500000</td>\n",
       "      <td>43.5000</td>\n",
       "      <td>8.000000</td>\n",
       "      <td>4.000000</td>\n",
       "      <td>7.402455</td>\n",
       "      <td>0.445402</td>\n",
       "      <td>10.000000</td>\n",
       "      <td>665.000000</td>\n",
       "      <td>1.000000</td>\n",
       "      <td>255.500000</td>\n",
       "      <td>462.500000</td>\n",
       "      <td>2.611394</td>\n",
       "    </tr>\n",
       "    <tr>\n",
       "      <th>max</th>\n",
       "      <td>28810.000000</td>\n",
       "      <td>182426.000000</td>\n",
       "      <td>16206.000000</td>\n",
       "      <td>674.000000</td>\n",
       "      <td>195.000000</td>\n",
       "      <td>6306.000000</td>\n",
       "      <td>452.0000</td>\n",
       "      <td>59.000000</td>\n",
       "      <td>400.000000</td>\n",
       "      <td>28.333333</td>\n",
       "      <td>1.957690</td>\n",
       "      <td>189.000000</td>\n",
       "      <td>2535.000000</td>\n",
       "      <td>6.000000</td>\n",
       "      <td>10828.000000</td>\n",
       "      <td>33389.000000</td>\n",
       "      <td>18.763441</td>\n",
       "    </tr>\n",
       "  </tbody>\n",
       "</table>\n",
       "</div>"
      ],
      "text/plain": [
       "              forks          stars       commits      issues       pulls  \\\n",
       "count    112.000000     112.000000    112.000000  112.000000  112.000000   \n",
       "mean     772.151786    4159.419643    752.187500   47.821429   11.160714   \n",
       "std     3054.837570   18575.323956   2162.451464  107.180089   27.703239   \n",
       "min        1.000000       1.000000      2.000000    0.000000    0.000000   \n",
       "25%       12.750000      31.000000     24.000000    2.000000    0.000000   \n",
       "50%       45.000000     215.500000    102.500000    8.500000    2.500000   \n",
       "75%      205.500000    1268.750000    343.000000   38.250000    8.250000   \n",
       "max    28810.000000  182426.000000  16206.000000  674.000000  195.000000   \n",
       "\n",
       "       subscribers  contributors    branches  comcomment  ratio_starsforks  \\\n",
       "count   112.000000      112.0000  112.000000  112.000000        112.000000   \n",
       "mean    141.633929       60.5625    6.205357   12.089286          5.816711   \n",
       "std     638.201739      111.6367    8.586747   45.693565          4.993468   \n",
       "min       2.000000        1.0000    1.000000    0.000000          0.510806   \n",
       "25%       7.000000        3.7500    1.000000    0.000000          2.245192   \n",
       "50%      22.500000       11.0000    3.000000    0.000000          4.200000   \n",
       "75%      46.500000       43.5000    8.000000    4.000000          7.402455   \n",
       "max    6306.000000      452.0000   59.000000  400.000000         28.333333   \n",
       "\n",
       "       ratio_forksstars  counter_201  counter_102  counter_300    num_issues  \\\n",
       "count        112.000000   112.000000   112.000000   112.000000    112.000000   \n",
       "mean           0.363732    15.232143   446.339286     0.580357    493.500000   \n",
       "std            0.363358    36.063753   562.444769     1.234915   1343.659411   \n",
       "min            0.035294     0.000000     0.000000     0.000000      0.000000   \n",
       "25%            0.135091     0.000000     0.000000     0.000000      3.750000   \n",
       "50%            0.238095     1.000000   174.000000     0.000000     28.500000   \n",
       "75%            0.445402    10.000000   665.000000     1.000000    255.500000   \n",
       "max            1.957690   189.000000  2535.000000     6.000000  10828.000000   \n",
       "\n",
       "       num_comments  ratio_commentsissue  \n",
       "count    112.000000           112.000000  \n",
       "mean    1228.937500             1.816851  \n",
       "std     3900.772059             2.129679  \n",
       "min        0.000000             0.000000  \n",
       "25%        3.000000             0.666667  \n",
       "50%       39.000000             1.517857  \n",
       "75%      462.500000             2.611394  \n",
       "max    33389.000000            18.763441  "
      ]
     },
     "execution_count": 126,
     "metadata": {},
     "output_type": "execute_result"
    }
   ],
   "source": [
    "result_data_min_outliars.describe()"
   ]
  },
  {
   "cell_type": "code",
   "execution_count": 130,
   "metadata": {},
   "outputs": [
    {
     "name": "stderr",
     "output_type": "stream",
     "text": [
      "*c* argument looks like a single numeric RGB or RGBA sequence, which should be avoided as value-mapping will have precedence in case its length matches with *x* & *y*.  Please use the *color* keyword-argument or provide a 2-D array with a single row if you intend to specify the same RGB or RGBA value for all points.\n"
     ]
    },
    {
     "data": {
      "text/plain": [
       "<AxesSubplot:xlabel='counter_201', ylabel='ratio_forksstars'>"
      ]
     },
     "execution_count": 130,
     "metadata": {},
     "output_type": "execute_result"
    },
    {
     "data": {
      "image/png": "[encoded data removed]",
      "text/plain": [
       "<Figure size 432x288 with 1 Axes>"
      ]
     },
     "metadata": {
      "needs_background": "light"
     },
     "output_type": "display_data"
    }
   ],
   "source": [
    "result_data.plot(x = \"counter_201\", y = \"ratio_forksstars\", kind= \"scatter\")"
   ]
  },
  {
   "cell_type": "code",
   "execution_count": 131,
   "metadata": {},
   "outputs": [
    {
     "name": "stderr",
     "output_type": "stream",
     "text": [
      "*c* argument looks like a single numeric RGB or RGBA sequence, which should be avoided as value-mapping will have precedence in case its length matches with *x* & *y*.  Please use the *color* keyword-argument or provide a 2-D array with a single row if you intend to specify the same RGB or RGBA value for all points.\n"
     ]
    },
    {
     "data": {
      "text/plain": [
       "<AxesSubplot:xlabel='counter_201', ylabel='ratio_forksstars'>"
      ]
     },
     "execution_count": 131,
     "metadata": {},
     "output_type": "execute_result"
    },
    {
     "data": {
      "image/png": "[encoded data removed]",
      "text/plain": [
       "<Figure size 432x288 with 1 Axes>"
      ]
     },
     "metadata": {
      "needs_background": "light"
     },
     "output_type": "display_data"
    }
   ],
   "source": [
    "result_data_min_outliars.sort_values(by = \"counter_201\").plot(x = \"counter_201\", y = \"ratio_forksstars\", marker = \"o\", kind= \"scatter\")"
   ]
  },
  {
   "cell_type": "code",
   "execution_count": 132,
   "metadata": {},
   "outputs": [
    {
     "data": {
      "text/plain": [
       "<AxesSubplot:>"
      ]
     },
     "execution_count": 132,
     "metadata": {},
     "output_type": "execute_result"
    },
    {
     "data": {
      "image/png": "[encoded data removed]",
      "text/plain": [
       "<Figure size 792x648 with 2 Axes>"
      ]
     },
     "metadata": {},
     "output_type": "display_data"
    }
   ],
   "source": [
    "# plot correlation matrix\n",
    "\n",
    "sns.set_theme(style=\"white\")\n",
    "\n",
    "# Compute the correlation matrix\n",
    "corr = result_data.corr()\n",
    "\n",
    "# Generate a mask for the upper triangle\n",
    "mask = np.triu(np.ones_like(corr, dtype=bool))\n",
    "\n",
    "# Set up the matplotlib figure\n",
    "f, ax = plt.subplots(figsize=(11, 9))\n",
    "\n",
    "# Generate a custom diverging colormap\n",
    "cmap = sns.diverging_palette(230, 20, as_cmap=True)\n",
    "\n",
    "# Draw the heatmap with the mask and correct aspect ratio\n",
    "sns.heatmap(corr, mask=mask, cmap=cmap, vmax=.3, center=0,\n",
    "            square=True, linewidths=.5, cbar_kws={\"shrink\": .5})"
   ]
  }
 ],
 "metadata": {
  "kernelspec": {
   "display_name": "Python 3",
   "language": "python",
   "name": "python3"
  },
  "language_info": {
   "codemirror_mode": {
    "name": "ipython",
    "version": 3
   },
   "file_extension": ".py",
   "mimetype": "text/x-python",
   "name": "python",
   "nbconvert_exporter": "python",
   "pygments_lexer": "ipython3",
   "version": "3.8.5"
  }
 },
 "nbformat": 4,
 "nbformat_minor": 4
}
