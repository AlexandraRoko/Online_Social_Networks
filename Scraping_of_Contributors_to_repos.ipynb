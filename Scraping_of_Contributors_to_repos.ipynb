{
 "cells": [
  {
   "cell_type": "markdown",
   "metadata": {},
   "source": [
    "# Scraping the first data set to create the network of contributors"
   ]
  },
  {
   "cell_type": "code",
   "execution_count": 2,
   "metadata": {},
   "outputs": [],
   "source": [
    "from github import Github\n",
    "import requests\n",
    "import calendar \n",
    "from timeit import time \n",
    "import json\n",
    "\n",
    "ACCESS_TOKEN = 'MY_ACCESS_TOKEN'\n",
    "USER = \"vuejs\"\n",
    "#REPO = \"vue-next\"\n",
    "\n",
    "g1 = Github(ACCESS_TOKEN)\n",
    "g2 = Github(USER)\n",
    "\n",
    "user = g2.get_user()"
   ]
  },
  {
   "cell_type": "code",
   "execution_count": 3,
   "metadata": {},
   "outputs": [],
   "source": [
    "#Get repositories for an organization\n",
    "org = g1.get_organization('vuejs')\n",
    "repos = org.get_repos()\n",
    "repos_id_lsit= []\n",
    "repos_name_lsit = []\n",
    "for repo in repos:\n",
    "    repos_id_lsit.append(repo.id)\n",
    "    repos_name_lsit.append(repo)"
   ]
  },
  {
   "cell_type": "code",
   "execution_count": 5,
   "metadata": {
    "collapsed": true,
    "jupyter": {
     "outputs_hidden": true
    }
   },
   "outputs": [
    {
     "name": "stdout",
     "output_type": "stream",
     "text": [
      "vue 4995\n",
      "vue-router 4889\n",
      "vuejs.org 4845\n",
      "vue-touch 4747\n",
      "Discussion 4745\n",
      "beautiful-open 4744\n",
      "vue-devtools 4742\n",
      "vue-element 4708\n",
      "vue-loader 4707\n",
      "vue-component-compiler 4694\n",
      "vueify 4690\n",
      "vue-hackernews 4683\n",
      "vue-syntax-highlight 4679\n",
      "todomvc 4677\n",
      "js-repaint-perfs 4588\n",
      "vue-webpack-meteor-example 4582\n",
      "vue-class-component 4581\n",
      "vuex 4573\n",
      "vue-async-data 4536\n",
      "jsdelivr 4535\n",
      "vue-html-loader 4066\n",
      "rc.vuejs.org 4063\n",
      "cdnjs 4061\n",
      "012.vuejs.org 3520\n",
      "011.vuejs.org 3516\n",
      "awesome-vue 3512\n",
      "vue-hot-reload-api 3365\n",
      "insert-css 3362\n",
      "cn.vuejs.org 3361\n",
      "jp.vuejs.org 3239\n",
      "vue-rx 3139\n",
      "012-cn.vuejs.org 3134\n",
      "vue-requests 3133\n",
      "it.vuejs.org 3132\n",
      "vue-cli 3124\n",
      "vue-template-validator 3013\n",
      "vue-style-loader 3012\n",
      "vuefire 3005\n",
      "rollup-plugin-vue 2960\n",
      "vue-animated-list 2956\n",
      "vuex-router-sync 2955\n",
      "art 2952\n",
      "eslint-config-vue 2951\n",
      "flow-typed 2950\n",
      "babel-plugin-transform-vue-jsx 2945\n",
      "systemjs-plugin-vue 2942\n",
      "babel-helper-vue-jsx-merge-props 2941\n",
      "vue-hackernews-2.0 2940\n",
      "vue-template-es2015-compiler 2931\n",
      "laravel-elixir-vue-2 2928\n",
      "eslint-plugin-vue 2927\n",
      "vue-migration-helper 2902\n",
      "vue-apollo 2896\n",
      "v1.vuejs.org 2874\n",
      "vetur 2865\n",
      "babel-preset-vue 2745\n",
      "v1-jp.vuejs.org 2744\n",
      "v1-cn.vuejs.org 2702\n",
      "vuex-observable 2664\n",
      "vue-eslint-parser 2663\n",
      "vue-curated-client 2653\n"
     ]
    },
    {
     "ename": "TypeError",
     "evalue": "string indices must be integers",
     "output_type": "error",
     "traceback": [
      "\u001b[0;31m---------------------------------------------------------------------------\u001b[0m",
      "\u001b[0;31mTypeError\u001b[0m                                 Traceback (most recent call last)",
      "\u001b[0;32m<ipython-input-5-01f4a1755303>\u001b[0m in \u001b[0;36m<module>\u001b[0;34m\u001b[0m\n\u001b[1;32m     18\u001b[0m \u001b[0;34m\u001b[0m\u001b[0m\n\u001b[1;32m     19\u001b[0m         \u001b[0;32mfor\u001b[0m \u001b[0mcontributor\u001b[0m \u001b[0;32min\u001b[0m \u001b[0mcontributors_data\u001b[0m\u001b[0;34m:\u001b[0m\u001b[0;34m\u001b[0m\u001b[0;34m\u001b[0m\u001b[0m\n\u001b[0;32m---> 20\u001b[0;31m             \u001b[0mtemp_dict_contributors\u001b[0m\u001b[0;34m[\u001b[0m\u001b[0mcontributor\u001b[0m\u001b[0;34m[\u001b[0m\u001b[0;34m\"login\"\u001b[0m\u001b[0;34m]\u001b[0m\u001b[0;34m]\u001b[0m \u001b[0;34m=\u001b[0m \u001b[0mcontributor\u001b[0m\u001b[0;34m[\u001b[0m\u001b[0;34m'contributions'\u001b[0m\u001b[0;34m]\u001b[0m\u001b[0;34m\u001b[0m\u001b[0;34m\u001b[0m\u001b[0m\n\u001b[0m\u001b[1;32m     21\u001b[0m \u001b[0;34m\u001b[0m\u001b[0m\n\u001b[1;32m     22\u001b[0m         \u001b[0mcontributor_to_repo_dict\u001b[0m\u001b[0;34m[\u001b[0m\u001b[0mrepo\u001b[0m\u001b[0;34m.\u001b[0m\u001b[0mname\u001b[0m\u001b[0;34m]\u001b[0m \u001b[0;34m=\u001b[0m \u001b[0mtemp_dict_contributors\u001b[0m\u001b[0;34m\u001b[0m\u001b[0;34m\u001b[0m\u001b[0m\n",
      "\u001b[0;31mTypeError\u001b[0m: string indices must be integers"
     ]
    }
   ],
   "source": [
    "# get the all contributors to all the different repositories\n",
    "# store the data in a dictionary\n",
    "\n",
    "contributor_to_repo_dict = {}\n",
    "\n",
    "for repo in repos_name_lsit: \n",
    "\n",
    "    core_rate_limit = g1.get_rate_limit().core\n",
    "    print(repo.name , core_rate_limit.remaining)\n",
    "    \n",
    "    if core_rate_limit.remaining > 100: \n",
    "    \n",
    "        temp_dict_contributors = {}\n",
    "        temp_dict_contributors[\"TotalCount_Contributions\"] = len([commit for commit in repo.get_commits()])\n",
    "\n",
    "        r = requests.get(repo.contributors_url)\n",
    "        contributors_data = r.json()\n",
    "\n",
    "        for contributor in contributors_data:\n",
    "            temp_dict_contributors[contributor[\"login\"]] = contributor['contributions']\n",
    "\n",
    "        contributor_to_repo_dict[repo.name] = temp_dict_contributors\n",
    "        \n",
    "    else: \n",
    "        reset_timestamp = calendar.timegm(core_rate_limit.reset.timetuple())\n",
    "        sleep_time = reset_timestamp - calendar.timegm(time.gmtime()) + 10  # add 10 seconds to be sure the rate limit has been reset\n",
    "        time.sleep(sleep_time)\n",
    "        \n",
    "        temp_dict_contributors = {}\n",
    "        temp_dict_contributors[\"TotalCount_Contributions\"] = len([commit for commit in repo.get_commits()])\n",
    "\n",
    "        r = requests.get(repo.contributors_url)\n",
    "        contributors_data = r.json()\n",
    "\n",
    "        for contributor in contributors_data:\n",
    "            temp_dict_contributors[contributor[\"login\"]] = contributor['contributions']\n",
    "\n",
    "        contributor_to_repo_dict[repo.name] = temp_dict_contributors"
   ]
  },
  {
   "cell_type": "code",
   "execution_count": 6,
   "metadata": {},
   "outputs": [],
   "source": [
    "# Scrape how often which contributor contributed to which repository\n",
    "r = requests.get(repo.contributors_url)\n",
    "contributors_data = r.json()"
   ]
  },
  {
   "cell_type": "code",
   "execution_count": 7,
   "metadata": {},
   "outputs": [],
   "source": [
    "# Store data in a dictionary\n",
    "for contributor in contributors_data:\n",
    "    temp_dict = {}\n",
    "    temp_dict[\"contributions\"] = contributor['contributions']\n",
    "    temp_dict_contributors[contributor[\"login\"]] = temp_dict  "
   ]
  },
  {
   "cell_type": "code",
   "execution_count": null,
   "metadata": {},
   "outputs": [],
   "source": [
    "# write data to file\n",
    "with open('info_about_contributers_per_repo_II.txt', 'w') as outfile:\n",
    "    json.dump(contributor_to_repo_dict, outfile)\n",
    "outfile.close()"
   ]
  }
 ],
 "metadata": {
  "kernelspec": {
   "display_name": "Python 3",
   "language": "python",
   "name": "python3"
  },
  "language_info": {
   "codemirror_mode": {
    "name": "ipython",
    "version": 3
   },
   "file_extension": ".py",
   "mimetype": "text/x-python",
   "name": "python",
   "nbconvert_exporter": "python",
   "pygments_lexer": "ipython3",
   "version": "3.8.5"
  }
 },
 "nbformat": 4,
 "nbformat_minor": 4
}
